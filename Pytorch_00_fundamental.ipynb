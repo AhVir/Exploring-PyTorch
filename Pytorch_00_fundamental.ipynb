{
  "nbformat": 4,
  "nbformat_minor": 0,
  "metadata": {
    "colab": {
      "provenance": []
    },
    "kernelspec": {
      "name": "python3",
      "display_name": "Python 3"
    },
    "language_info": {
      "name": "python"
    }
  },
  "cells": [
    {
      "cell_type": "markdown",
      "source": [
        "**00. PyTorch Fundamentals**\n",
        "\n",
        "this is the first notebook\n",
        "\n",
        "resource notebook: https://www.learnpytorch.io/00_pytorch_fundamentals/\n",
        "\n",
        "if you have a question: go to \"github discussion\""
      ],
      "metadata": {
        "id": "iiOxuuEpO0YO"
      }
    },
    {
      "cell_type": "code",
      "source": [
        "import torch\n",
        "import pandas as pd\n",
        "import numpy as np\n",
        "import matplotlib.pyplot as plt\n",
        "print(torch.__version__)"
      ],
      "metadata": {
        "colab": {
          "base_uri": "https://localhost:8080/"
        },
        "id": "53ZlyRJNNzZA",
        "outputId": "c061d524-59db-4556-8a45-1213554d47fb"
      },
      "execution_count": 1,
      "outputs": [
        {
          "output_type": "stream",
          "name": "stdout",
          "text": [
            "2.3.0+cu121\n"
          ]
        }
      ]
    },
    {
      "cell_type": "markdown",
      "source": [
        "## introduction\n",
        "\n",
        "### creating a tensor\n",
        "\n",
        "1. `torch.tensor()` = https://pytorch.org/docs/stable/tensors.html\n",
        "\n",
        "2."
      ],
      "metadata": {
        "id": "D9MnaayESP9_"
      }
    },
    {
      "cell_type": "code",
      "source": [
        "# scalar\n",
        "\n",
        "scalar = torch.tensor(7)\n",
        "\n",
        "scalar"
      ],
      "metadata": {
        "colab": {
          "base_uri": "https://localhost:8080/"
        },
        "id": "lvdwY1WFSS6w",
        "outputId": "a1815b3f-0673-42e4-bdce-cc165089b40c"
      },
      "execution_count": 2,
      "outputs": [
        {
          "output_type": "execute_result",
          "data": {
            "text/plain": [
              "tensor(7)"
            ]
          },
          "metadata": {},
          "execution_count": 2
        }
      ]
    },
    {
      "cell_type": "code",
      "source": [
        "# how many dimension\n",
        "\n",
        "scalar.ndim"
      ],
      "metadata": {
        "colab": {
          "base_uri": "https://localhost:8080/"
        },
        "id": "krKK5Sv5Sh7e",
        "outputId": "38d6d9aa-28ec-4368-a726-f43a31d533c3"
      },
      "execution_count": 3,
      "outputs": [
        {
          "output_type": "execute_result",
          "data": {
            "text/plain": [
              "0"
            ]
          },
          "metadata": {},
          "execution_count": 3
        }
      ]
    },
    {
      "cell_type": "code",
      "source": [
        "# get tensor as python int\n",
        "\n",
        "scalar.item()"
      ],
      "metadata": {
        "colab": {
          "base_uri": "https://localhost:8080/"
        },
        "id": "Thdu2p6GTkYh",
        "outputId": "013a09c6-9812-4d2e-beb8-1455c574b70a"
      },
      "execution_count": 4,
      "outputs": [
        {
          "output_type": "execute_result",
          "data": {
            "text/plain": [
              "7"
            ]
          },
          "metadata": {},
          "execution_count": 4
        }
      ]
    },
    {
      "cell_type": "code",
      "source": [
        "# vector\n",
        "\n",
        "vector = torch.tensor([7, 7])\n",
        "vector"
      ],
      "metadata": {
        "colab": {
          "base_uri": "https://localhost:8080/"
        },
        "id": "Kma4fu-Ix0fA",
        "outputId": "6cf787a8-2a2d-4d8b-f30c-7e3361dae7b1"
      },
      "execution_count": 5,
      "outputs": [
        {
          "output_type": "execute_result",
          "data": {
            "text/plain": [
              "tensor([7, 7])"
            ]
          },
          "metadata": {},
          "execution_count": 5
        }
      ]
    },
    {
      "cell_type": "code",
      "source": [
        "# vector.ndim -> returns Dimension of that tensor\n",
        "vector.ndim"
      ],
      "metadata": {
        "colab": {
          "base_uri": "https://localhost:8080/"
        },
        "id": "xwBagvJcyVNW",
        "outputId": "fb994078-d418-43ea-b8e8-a3343e5b811c"
      },
      "execution_count": 6,
      "outputs": [
        {
          "output_type": "execute_result",
          "data": {
            "text/plain": [
              "1"
            ]
          },
          "metadata": {},
          "execution_count": 6
        }
      ]
    },
    {
      "cell_type": "code",
      "source": [
        "# vector.shape -> #numbers\n",
        "vector.shape"
      ],
      "metadata": {
        "colab": {
          "base_uri": "https://localhost:8080/"
        },
        "id": "lZHzzl2zybNc",
        "outputId": "f0f687d7-57ea-41a2-fe73-89ef264a8b0a"
      },
      "execution_count": 7,
      "outputs": [
        {
          "output_type": "execute_result",
          "data": {
            "text/plain": [
              "torch.Size([2])"
            ]
          },
          "metadata": {},
          "execution_count": 7
        }
      ]
    },
    {
      "cell_type": "code",
      "source": [
        "# Matrix\n",
        "\n",
        "Matrix = torch.tensor([[7, 8],\n",
        "                      [1, 2]])\n",
        "Matrix"
      ],
      "metadata": {
        "colab": {
          "base_uri": "https://localhost:8080/"
        },
        "id": "IOV_J_xsygDR",
        "outputId": "e53d2f88-194c-4a84-db9f-43d77370356c"
      },
      "execution_count": 8,
      "outputs": [
        {
          "output_type": "execute_result",
          "data": {
            "text/plain": [
              "tensor([[7, 8],\n",
              "        [1, 2]])"
            ]
          },
          "metadata": {},
          "execution_count": 8
        }
      ]
    },
    {
      "cell_type": "code",
      "source": [
        "Matrix.ndim"
      ],
      "metadata": {
        "colab": {
          "base_uri": "https://localhost:8080/"
        },
        "id": "s6VYrIkpy-5D",
        "outputId": "f6322233-0b28-4692-c0a1-141510e69215"
      },
      "execution_count": 9,
      "outputs": [
        {
          "output_type": "execute_result",
          "data": {
            "text/plain": [
              "2"
            ]
          },
          "metadata": {},
          "execution_count": 9
        }
      ]
    },
    {
      "cell_type": "code",
      "source": [
        "Matrix.shape"
      ],
      "metadata": {
        "colab": {
          "base_uri": "https://localhost:8080/"
        },
        "id": "M4JD3qtszNWa",
        "outputId": "c520e41d-02ca-46c9-a0c5-fcb1410ba7df"
      },
      "execution_count": 10,
      "outputs": [
        {
          "output_type": "execute_result",
          "data": {
            "text/plain": [
              "torch.Size([2, 2])"
            ]
          },
          "metadata": {},
          "execution_count": 10
        }
      ]
    },
    {
      "cell_type": "code",
      "source": [
        "Matrix[0]"
      ],
      "metadata": {
        "colab": {
          "base_uri": "https://localhost:8080/"
        },
        "id": "ZgUArTnNzPVK",
        "outputId": "03e93333-876e-4fe5-b083-8f1b77e18b16"
      },
      "execution_count": 11,
      "outputs": [
        {
          "output_type": "execute_result",
          "data": {
            "text/plain": [
              "tensor([7, 8])"
            ]
          },
          "metadata": {},
          "execution_count": 11
        }
      ]
    },
    {
      "cell_type": "markdown",
      "source": [
        "for each Tensor, try out these functions/operations:\n",
        "name -> name of the tensor\n",
        "\n",
        "i) name\n",
        "ii) name.shape\n",
        "iii) name.ndim\n",
        "iv) name[idx]"
      ],
      "metadata": {
        "id": "GyNwGhrt1Zlx"
      }
    },
    {
      "cell_type": "code",
      "source": [
        "# TENSOR\n",
        "\n",
        "TENSOR = torch.tensor([[[1, 2, 4],\n",
        "                        [3, 8, 9],\n",
        "                        [9, 6, 3]]])\n",
        "\n",
        "\n",
        "TENSOR2 = torch.tensor([[[1, 2, 4, 10],\n",
        "                        [3, 8, 9, 1],\n",
        "                        [9, 6, 3, 2]]])\n"
      ],
      "metadata": {
        "id": "zim33B_Szome"
      },
      "execution_count": 12,
      "outputs": []
    },
    {
      "cell_type": "code",
      "source": [
        "TENSOR.ndim"
      ],
      "metadata": {
        "colab": {
          "base_uri": "https://localhost:8080/"
        },
        "id": "ptOLtKsJ0JES",
        "outputId": "35ddee56-fc62-4e7c-c15d-3a8aa95a1811"
      },
      "execution_count": 13,
      "outputs": [
        {
          "output_type": "execute_result",
          "data": {
            "text/plain": [
              "3"
            ]
          },
          "metadata": {},
          "execution_count": 13
        }
      ]
    },
    {
      "cell_type": "code",
      "source": [
        "TENSOR.shape"
      ],
      "metadata": {
        "colab": {
          "base_uri": "https://localhost:8080/"
        },
        "id": "2HgjBMeQ0Kvv",
        "outputId": "6bacadc2-d567-4f4d-ad22-c26e440f55b7"
      },
      "execution_count": 14,
      "outputs": [
        {
          "output_type": "execute_result",
          "data": {
            "text/plain": [
              "torch.Size([1, 3, 3])"
            ]
          },
          "metadata": {},
          "execution_count": 14
        }
      ]
    },
    {
      "cell_type": "code",
      "source": [
        "TENSOR[0]"
      ],
      "metadata": {
        "colab": {
          "base_uri": "https://localhost:8080/"
        },
        "id": "uChJVkvX0L59",
        "outputId": "328d3f1f-9059-4a67-aafb-86d3efe5626b"
      },
      "execution_count": 15,
      "outputs": [
        {
          "output_type": "execute_result",
          "data": {
            "text/plain": [
              "tensor([[1, 2, 4],\n",
              "        [3, 8, 9],\n",
              "        [9, 6, 3]])"
            ]
          },
          "metadata": {},
          "execution_count": 15
        }
      ]
    },
    {
      "cell_type": "code",
      "source": [
        "TENSOR2"
      ],
      "metadata": {
        "colab": {
          "base_uri": "https://localhost:8080/"
        },
        "id": "DNgSGmRx0fs-",
        "outputId": "fb1fe25b-7bfa-4ae5-c338-4c4a970abd2a"
      },
      "execution_count": 16,
      "outputs": [
        {
          "output_type": "execute_result",
          "data": {
            "text/plain": [
              "tensor([[[ 1,  2,  4, 10],\n",
              "         [ 3,  8,  9,  1],\n",
              "         [ 9,  6,  3,  2]]])"
            ]
          },
          "metadata": {},
          "execution_count": 16
        }
      ]
    },
    {
      "cell_type": "code",
      "source": [
        "TENSOR2.shape"
      ],
      "metadata": {
        "colab": {
          "base_uri": "https://localhost:8080/"
        },
        "id": "RPxpOAsm09Rw",
        "outputId": "7ccc018b-3ef4-4f80-f326-edec95203782"
      },
      "execution_count": 17,
      "outputs": [
        {
          "output_type": "execute_result",
          "data": {
            "text/plain": [
              "torch.Size([1, 3, 4])"
            ]
          },
          "metadata": {},
          "execution_count": 17
        }
      ]
    },
    {
      "cell_type": "code",
      "source": [
        "TENSOR2.ndim"
      ],
      "metadata": {
        "colab": {
          "base_uri": "https://localhost:8080/"
        },
        "id": "zRyGJAWr0_GA",
        "outputId": "7b6010dd-cc7d-4448-f862-dc6dacfb8346"
      },
      "execution_count": 18,
      "outputs": [
        {
          "output_type": "execute_result",
          "data": {
            "text/plain": [
              "3"
            ]
          },
          "metadata": {},
          "execution_count": 18
        }
      ]
    },
    {
      "cell_type": "code",
      "source": [
        "TENSOR2[0]"
      ],
      "metadata": {
        "colab": {
          "base_uri": "https://localhost:8080/"
        },
        "id": "RpYg--eU1ATX",
        "outputId": "15775d55-745f-4a25-f292-cc02b12e47f7"
      },
      "execution_count": 19,
      "outputs": [
        {
          "output_type": "execute_result",
          "data": {
            "text/plain": [
              "tensor([[ 1,  2,  4, 10],\n",
              "        [ 3,  8,  9,  1],\n",
              "        [ 9,  6,  3,  2]])"
            ]
          },
          "metadata": {},
          "execution_count": 19
        }
      ]
    },
    {
      "cell_type": "markdown",
      "source": [
        "**TENSOR2[1]** -> it's a block showing the\n",
        "\n",
        "```\n",
        "---------------------------------------------------------------------------\n",
        "IndexError                                Traceback (most recent call last)\n",
        "<ipython-input-42-a1e006b9174c> in <cell line: 1>()\n",
        "----> 1 TENSOR2[1]\n",
        "\n",
        "IndexError: index 1 is out of bounds for dimension 0 with size 1\n",
        "```"
      ],
      "metadata": {
        "id": "OUIQFQJH1L_I"
      }
    },
    {
      "cell_type": "markdown",
      "source": [
        "## Random Tensor\n",
        "\n",
        "Initially neural network starts with random tensors -> then, adjusts numbers by updating gradually\n",
        "\n",
        "Start with random numbers -> look at data -> update random numbers => look at data -> update"
      ],
      "metadata": {
        "id": "q_5sIZIM2CHG"
      }
    },
    {
      "cell_type": "code",
      "source": [
        "# create random tensor\n",
        "\n",
        "random_tensor = torch.rand(3, 4)\n",
        "random_tensor"
      ],
      "metadata": {
        "id": "Oo249xZU1Dny",
        "colab": {
          "base_uri": "https://localhost:8080/"
        },
        "outputId": "461a064f-b69b-4d6c-ceae-da53211f1aa1"
      },
      "execution_count": 20,
      "outputs": [
        {
          "output_type": "execute_result",
          "data": {
            "text/plain": [
              "tensor([[0.9037, 0.8417, 0.3189, 0.7630],\n",
              "        [0.0489, 0.2337, 0.7655, 0.4967],\n",
              "        [0.8806, 0.3579, 0.9325, 0.5163]])"
            ]
          },
          "metadata": {},
          "execution_count": 20
        }
      ]
    },
    {
      "cell_type": "code",
      "source": [
        "random_tensor.ndim, random_tensor.shape"
      ],
      "metadata": {
        "colab": {
          "base_uri": "https://localhost:8080/"
        },
        "id": "tswHprJ343CW",
        "outputId": "1eede5ee-84a0-45c4-829f-5ae54e619b5b"
      },
      "execution_count": 21,
      "outputs": [
        {
          "output_type": "execute_result",
          "data": {
            "text/plain": [
              "(2, torch.Size([3, 4]))"
            ]
          },
          "metadata": {},
          "execution_count": 21
        }
      ]
    },
    {
      "cell_type": "code",
      "source": [
        "random_tensor = torch.rand(1, 10, 10);\n",
        "random_tensor"
      ],
      "metadata": {
        "colab": {
          "base_uri": "https://localhost:8080/"
        },
        "id": "uyFRUrb-5XFa",
        "outputId": "591b77ee-744c-4d23-97c1-a4be709dbcf5"
      },
      "execution_count": 22,
      "outputs": [
        {
          "output_type": "execute_result",
          "data": {
            "text/plain": [
              "tensor([[[0.3045, 0.4403, 0.4001, 0.5177, 0.7179, 0.0833, 0.4689, 0.5696,\n",
              "          0.5220, 0.9585],\n",
              "         [0.0772, 0.5714, 0.9686, 0.4299, 0.4574, 0.6747, 0.8074, 0.2831,\n",
              "          0.7421, 0.4807],\n",
              "         [0.6593, 0.9129, 0.6053, 0.7707, 0.5150, 0.7866, 0.9997, 0.4597,\n",
              "          0.7283, 0.0075],\n",
              "         [0.8213, 0.7880, 0.4750, 0.8780, 0.8217, 0.5631, 0.1299, 0.8408,\n",
              "          0.5404, 0.0643],\n",
              "         [0.4816, 0.1660, 0.5016, 0.3168, 0.2949, 0.1123, 0.4570, 0.5288,\n",
              "          0.4864, 0.9548],\n",
              "         [0.5556, 0.8059, 0.7447, 0.4804, 0.6736, 0.8934, 0.0630, 0.2130,\n",
              "          0.5608, 0.7850],\n",
              "         [0.4737, 0.5827, 0.6528, 0.5397, 0.3551, 0.5777, 0.2112, 0.5367,\n",
              "          0.6112, 0.1631],\n",
              "         [0.6024, 0.4488, 0.0361, 0.9144, 0.9947, 0.3591, 0.2159, 0.7304,\n",
              "          0.2397, 0.6392],\n",
              "         [0.7921, 0.9598, 0.8737, 0.2366, 0.1186, 0.2971, 0.7964, 0.9613,\n",
              "          0.2433, 0.6078],\n",
              "         [0.4865, 0.6089, 0.7750, 0.7053, 0.4309, 0.9921, 0.0288, 0.0795,\n",
              "          0.2178, 0.4834]]])"
            ]
          },
          "metadata": {},
          "execution_count": 22
        }
      ]
    },
    {
      "cell_type": "code",
      "source": [
        "random_tensor2 = torch.rand(10, 10, 10)\n",
        "random_tensor2"
      ],
      "metadata": {
        "colab": {
          "base_uri": "https://localhost:8080/"
        },
        "id": "sB-lLIeW5dXx",
        "outputId": "48eebefd-59e2-4a1e-c212-3c85ffa3e117"
      },
      "execution_count": 23,
      "outputs": [
        {
          "output_type": "execute_result",
          "data": {
            "text/plain": [
              "tensor([[[0.5064, 0.1680, 0.2593, 0.1091, 0.6421, 0.3625, 0.7003, 0.7505,\n",
              "          0.3793, 0.2341],\n",
              "         [0.7518, 0.0538, 0.7392, 0.0200, 0.6615, 0.9685, 0.4472, 0.9464,\n",
              "          0.9090, 0.9198],\n",
              "         [0.0471, 0.2669, 0.2071, 0.4807, 0.2577, 0.1216, 0.2048, 0.1216,\n",
              "          0.7037, 0.7266],\n",
              "         [0.2535, 0.1950, 0.1549, 0.5070, 0.1168, 0.4425, 0.3045, 0.6791,\n",
              "          0.1353, 0.8171],\n",
              "         [0.2414, 0.5524, 0.8474, 0.6875, 0.8023, 0.6138, 0.0362, 0.6996,\n",
              "          0.2998, 0.0739],\n",
              "         [0.7239, 0.6694, 0.3792, 0.9279, 0.2868, 0.0647, 0.3314, 0.9258,\n",
              "          0.6220, 0.7243],\n",
              "         [0.1361, 0.8249, 0.6271, 0.5238, 0.1195, 0.8383, 0.2996, 0.1899,\n",
              "          0.0251, 0.5685],\n",
              "         [0.5194, 0.0079, 0.0732, 0.0176, 0.3050, 0.7917, 0.4795, 0.0641,\n",
              "          0.5641, 0.7578],\n",
              "         [0.7307, 0.8739, 0.1200, 0.0494, 0.9114, 0.0951, 0.9041, 0.8381,\n",
              "          0.8237, 0.2046],\n",
              "         [0.8427, 0.2123, 0.6443, 0.6562, 0.2697, 0.3073, 0.4915, 0.3625,\n",
              "          0.7582, 0.0431]],\n",
              "\n",
              "        [[0.2853, 0.4445, 0.2711, 0.8303, 0.4877, 0.3946, 0.9228, 0.2534,\n",
              "          0.9830, 0.6160],\n",
              "         [0.3300, 0.9146, 0.7109, 0.3877, 0.9268, 0.1820, 0.0621, 0.7556,\n",
              "          0.7481, 0.1388],\n",
              "         [0.5112, 0.2948, 0.3018, 0.9367, 0.8957, 0.1411, 0.0325, 0.4907,\n",
              "          0.4317, 0.9214],\n",
              "         [0.9985, 0.8922, 0.5292, 0.0133, 0.4939, 0.6516, 0.5851, 0.7269,\n",
              "          0.0465, 0.4551],\n",
              "         [0.4224, 0.5512, 0.7314, 0.9712, 0.4300, 0.3783, 0.8122, 0.3852,\n",
              "          0.9071, 0.9854],\n",
              "         [0.8074, 0.7159, 0.6135, 0.8473, 0.8883, 0.4822, 0.7091, 0.2210,\n",
              "          0.8148, 0.8601],\n",
              "         [0.3107, 0.0663, 0.7825, 0.1263, 0.7778, 0.0815, 0.6152, 0.7782,\n",
              "          0.8619, 0.3549],\n",
              "         [0.4988, 0.6335, 0.8104, 0.1271, 0.4541, 0.3225, 0.3870, 0.2298,\n",
              "          0.7754, 0.7216],\n",
              "         [0.1664, 0.4665, 0.9987, 0.6794, 0.4380, 0.0457, 0.0674, 0.8798,\n",
              "          0.4395, 0.1244],\n",
              "         [0.3192, 0.9068, 0.9031, 0.7280, 0.8191, 0.7312, 0.6462, 0.7198,\n",
              "          0.4993, 0.2686]],\n",
              "\n",
              "        [[0.2877, 0.5844, 0.1338, 0.0099, 0.8469, 0.7970, 0.6990, 0.5529,\n",
              "          0.6089, 0.7428],\n",
              "         [0.7693, 0.7282, 0.2058, 0.1757, 0.0449, 0.5359, 0.1906, 0.4142,\n",
              "          0.6269, 0.4657],\n",
              "         [0.6342, 0.2773, 0.0260, 0.5575, 0.6773, 0.2918, 0.8828, 0.4837,\n",
              "          0.9643, 0.0076],\n",
              "         [0.5945, 0.4772, 0.7903, 0.2361, 0.1372, 0.1187, 0.6602, 0.9490,\n",
              "          0.0906, 0.6307],\n",
              "         [0.1168, 0.3200, 0.9464, 0.0061, 0.0744, 0.4529, 0.4114, 0.5877,\n",
              "          0.2440, 0.3595],\n",
              "         [0.2541, 0.6551, 0.5014, 0.7983, 0.6669, 0.8472, 0.5061, 0.4541,\n",
              "          0.8561, 0.4870],\n",
              "         [0.7930, 0.5794, 0.2712, 0.2876, 0.3231, 0.2164, 0.6887, 0.8053,\n",
              "          0.2084, 0.2340],\n",
              "         [0.7915, 0.2264, 0.6054, 0.8887, 0.1563, 0.4562, 0.9487, 0.3581,\n",
              "          0.6090, 0.2713],\n",
              "         [0.2923, 0.3075, 0.6805, 0.4110, 0.9369, 0.0760, 0.5865, 0.8227,\n",
              "          0.3528, 0.2362],\n",
              "         [0.6657, 0.0641, 0.8207, 0.4443, 0.2049, 0.1978, 0.8487, 0.1187,\n",
              "          0.9162, 0.3279]],\n",
              "\n",
              "        [[0.0528, 0.9393, 0.7702, 0.0834, 0.2993, 0.3206, 0.0302, 0.7935,\n",
              "          0.6487, 0.0693],\n",
              "         [0.5200, 0.7275, 0.3309, 0.9072, 0.2964, 0.6132, 0.2739, 0.0515,\n",
              "          0.6103, 0.0754],\n",
              "         [0.4808, 0.1588, 0.5302, 0.8180, 0.8546, 0.8814, 0.3295, 0.4439,\n",
              "          0.3905, 0.8095],\n",
              "         [0.9983, 0.4501, 0.9854, 0.8217, 0.3401, 0.8245, 0.9360, 0.9479,\n",
              "          0.0568, 0.5737],\n",
              "         [0.9095, 0.7376, 0.3376, 0.1743, 0.0663, 0.5103, 0.6233, 0.6217,\n",
              "          0.7262, 0.9591],\n",
              "         [0.6235, 0.6635, 0.1258, 0.9210, 0.6023, 0.2267, 0.1402, 0.6830,\n",
              "          0.6857, 0.3406],\n",
              "         [0.6874, 0.5466, 0.7262, 0.8872, 0.9437, 0.7874, 0.0146, 0.5917,\n",
              "          0.9736, 0.8382],\n",
              "         [0.5232, 0.5447, 0.7585, 0.2579, 0.3627, 0.4589, 0.1069, 0.8578,\n",
              "          0.7667, 0.0493],\n",
              "         [0.8271, 0.4948, 0.7724, 0.2337, 0.1585, 0.3704, 0.1569, 0.9344,\n",
              "          0.0501, 0.4975],\n",
              "         [0.4107, 0.7165, 0.3530, 0.5230, 0.7575, 0.2903, 0.9626, 0.2406,\n",
              "          0.7745, 0.8471]],\n",
              "\n",
              "        [[0.9185, 0.3759, 0.4219, 0.5262, 0.3279, 0.5611, 0.7334, 0.9297,\n",
              "          0.2045, 0.2778],\n",
              "         [0.5950, 0.2897, 0.1022, 0.3388, 0.9727, 0.4129, 0.8742, 0.9293,\n",
              "          0.5490, 0.6582],\n",
              "         [0.8214, 0.4027, 0.4651, 0.0076, 0.2946, 0.0315, 0.4867, 0.4200,\n",
              "          0.4096, 0.5641],\n",
              "         [0.0340, 0.1747, 0.1147, 0.1861, 0.0418, 0.9262, 0.5190, 0.4770,\n",
              "          0.8317, 0.7834],\n",
              "         [0.2343, 0.8270, 0.8021, 0.2095, 0.9370, 0.0327, 0.1128, 0.9085,\n",
              "          0.2011, 0.0755],\n",
              "         [0.4768, 0.9268, 0.7921, 0.5111, 0.7637, 0.2380, 0.7618, 0.8576,\n",
              "          0.2418, 0.9834],\n",
              "         [0.5405, 0.3397, 0.4716, 0.9088, 0.4869, 0.5668, 0.8209, 0.5462,\n",
              "          0.6457, 0.7477],\n",
              "         [0.8191, 0.4652, 0.4472, 0.5973, 0.2191, 0.7280, 0.9119, 0.7078,\n",
              "          0.0350, 0.8353],\n",
              "         [0.2064, 0.1796, 0.9230, 0.1116, 0.1711, 0.2524, 0.7891, 0.7044,\n",
              "          0.5646, 0.8651],\n",
              "         [0.3731, 0.7002, 0.4676, 0.6141, 0.4910, 0.2095, 0.4303, 0.0943,\n",
              "          0.6759, 0.9316]],\n",
              "\n",
              "        [[0.2595, 0.2131, 0.0817, 0.5347, 0.8181, 0.1982, 0.9048, 0.0200,\n",
              "          0.8165, 0.2956],\n",
              "         [0.8345, 0.6534, 0.1253, 0.5148, 0.9272, 0.3004, 0.5874, 0.1165,\n",
              "          0.6247, 0.8248],\n",
              "         [0.1071, 0.5355, 0.1218, 0.9682, 0.3690, 0.4325, 0.3722, 0.5390,\n",
              "          0.7429, 0.2861],\n",
              "         [0.3043, 0.8742, 0.8105, 0.7158, 0.9505, 0.1181, 0.2073, 0.3151,\n",
              "          0.4816, 0.3902],\n",
              "         [0.3720, 0.1512, 0.3581, 0.2526, 0.7628, 0.9054, 0.2274, 0.9406,\n",
              "          0.6117, 0.4548],\n",
              "         [0.2748, 0.2873, 0.2200, 0.2506, 0.2255, 0.9188, 0.0203, 0.2579,\n",
              "          0.2324, 0.4120],\n",
              "         [0.1685, 0.5644, 0.4159, 0.4613, 0.2454, 0.2565, 0.4033, 0.2365,\n",
              "          0.6894, 0.0661],\n",
              "         [0.8346, 0.9423, 0.4875, 0.3527, 0.7743, 0.8663, 0.8321, 0.8920,\n",
              "          0.6565, 0.0848],\n",
              "         [0.3917, 0.7059, 0.7109, 0.9066, 0.0911, 0.6088, 0.6254, 0.6506,\n",
              "          0.6615, 0.2224],\n",
              "         [0.8577, 0.7660, 0.2691, 0.5255, 0.1445, 0.8531, 0.9946, 0.0913,\n",
              "          0.4805, 0.6621]],\n",
              "\n",
              "        [[0.6539, 0.9811, 0.4432, 0.9330, 0.3496, 0.3837, 0.5228, 0.2527,\n",
              "          0.3044, 0.2757],\n",
              "         [0.5324, 0.5152, 0.1513, 0.5600, 0.4146, 0.8475, 0.7871, 0.3149,\n",
              "          0.2774, 0.1839],\n",
              "         [0.6748, 0.0920, 0.6920, 0.7028, 0.3558, 0.8588, 0.9021, 0.2515,\n",
              "          0.8545, 0.7032],\n",
              "         [0.6885, 0.4940, 0.7728, 0.6038, 0.3074, 0.2648, 0.3639, 0.9814,\n",
              "          0.8311, 0.3045],\n",
              "         [0.9069, 0.0085, 0.2688, 0.9817, 0.6668, 0.7547, 0.8112, 0.6343,\n",
              "          0.7751, 0.9312],\n",
              "         [0.2295, 0.4845, 0.4958, 0.1358, 0.4241, 0.9372, 0.6288, 0.3346,\n",
              "          0.7526, 0.4480],\n",
              "         [0.3145, 0.9336, 0.9649, 0.6635, 0.8061, 0.3194, 0.9300, 0.3332,\n",
              "          0.7137, 0.0294],\n",
              "         [0.7963, 0.1736, 0.3325, 0.8973, 0.6699, 0.8325, 0.2507, 0.1690,\n",
              "          0.3150, 0.6921],\n",
              "         [0.0659, 0.6187, 0.8131, 0.0986, 0.8749, 0.9682, 0.5311, 0.8614,\n",
              "          0.2291, 0.5163],\n",
              "         [0.9938, 0.7793, 0.8012, 0.7426, 0.7011, 0.8913, 0.7444, 0.9503,\n",
              "          0.1796, 0.5010]],\n",
              "\n",
              "        [[0.3547, 0.2099, 0.9097, 0.7111, 0.8246, 0.3066, 0.1745, 0.4724,\n",
              "          0.8360, 0.0550],\n",
              "         [0.2271, 0.5429, 0.3802, 0.8214, 0.7927, 0.7337, 0.4686, 0.4059,\n",
              "          0.6163, 0.3850],\n",
              "         [0.5758, 0.1340, 0.0941, 0.2034, 0.0036, 0.1296, 0.1919, 0.0684,\n",
              "          0.1048, 0.8477],\n",
              "         [0.0726, 0.3120, 0.4831, 0.2526, 0.4326, 0.9240, 0.6707, 0.4310,\n",
              "          0.4836, 0.7483],\n",
              "         [0.3546, 0.8936, 0.4986, 0.6646, 0.0632, 0.2362, 0.5388, 0.0545,\n",
              "          0.1547, 0.1690],\n",
              "         [0.4037, 0.2487, 0.5426, 0.8623, 0.3836, 0.9415, 0.9264, 0.6445,\n",
              "          0.5008, 0.4711],\n",
              "         [0.3737, 0.3897, 0.9097, 0.2802, 0.0810, 0.9163, 0.5356, 0.4736,\n",
              "          0.8434, 0.4740],\n",
              "         [0.3833, 0.8279, 0.6616, 0.9511, 0.8193, 0.7218, 0.8225, 0.4545,\n",
              "          0.1436, 0.4214],\n",
              "         [0.4829, 0.6990, 0.6796, 0.0723, 0.9496, 0.8890, 0.0573, 0.5615,\n",
              "          0.9704, 0.1218],\n",
              "         [0.4840, 0.5030, 0.7946, 0.8486, 0.9951, 0.4349, 0.6198, 0.9743,\n",
              "          0.6508, 0.9528]],\n",
              "\n",
              "        [[0.6425, 0.4618, 0.1887, 0.3414, 0.5347, 0.3626, 0.4625, 0.2052,\n",
              "          0.6092, 0.7047],\n",
              "         [0.5985, 0.0747, 0.9275, 0.2065, 0.8899, 0.2710, 0.3160, 0.8785,\n",
              "          0.5260, 0.5992],\n",
              "         [0.1549, 0.2516, 0.1330, 0.0791, 0.5150, 0.8590, 0.1241, 0.2016,\n",
              "          0.4444, 0.4956],\n",
              "         [0.7250, 0.8339, 0.9826, 0.2272, 0.8238, 0.3612, 0.1274, 0.0163,\n",
              "          0.4896, 0.8459],\n",
              "         [0.5735, 0.4700, 0.7167, 0.1414, 0.4146, 0.7306, 0.6731, 0.3339,\n",
              "          0.4963, 0.1799],\n",
              "         [0.6379, 0.1303, 0.5342, 0.2809, 0.1567, 0.8005, 0.3514, 0.4832,\n",
              "          0.1058, 0.8325],\n",
              "         [0.2415, 0.4458, 0.7290, 0.1897, 0.0448, 0.1383, 0.3664, 0.3051,\n",
              "          0.8742, 0.3052],\n",
              "         [0.0480, 0.9573, 0.5581, 0.9441, 0.3911, 0.4623, 0.9509, 0.8905,\n",
              "          0.3582, 0.9163],\n",
              "         [0.7682, 0.5741, 0.7716, 0.5636, 0.4073, 0.5787, 0.4032, 0.3286,\n",
              "          0.2561, 0.9624],\n",
              "         [0.1276, 0.5642, 0.0405, 0.7556, 0.9780, 0.3684, 0.3386, 0.8648,\n",
              "          0.2277, 0.7703]],\n",
              "\n",
              "        [[0.2456, 0.7612, 0.5185, 0.1734, 0.5949, 0.5812, 0.5621, 0.7045,\n",
              "          0.9328, 0.7467],\n",
              "         [0.4334, 0.0030, 0.0357, 0.1662, 0.2137, 0.1167, 0.5587, 0.5733,\n",
              "          0.3420, 0.4695],\n",
              "         [0.4105, 0.6161, 0.7078, 0.3226, 0.2448, 0.9360, 0.2170, 0.1643,\n",
              "          0.3174, 0.9341],\n",
              "         [0.2820, 0.1013, 0.0060, 0.8595, 0.1894, 0.6819, 0.4964, 0.1054,\n",
              "          0.8720, 0.4593],\n",
              "         [0.9408, 0.6329, 0.2851, 0.6998, 0.8982, 0.0328, 0.7835, 0.0973,\n",
              "          0.0576, 0.5174],\n",
              "         [0.3615, 0.4582, 0.0446, 0.2779, 0.0268, 0.1785, 0.9039, 0.8507,\n",
              "          0.3721, 0.2592],\n",
              "         [0.4643, 0.9343, 0.0050, 0.3733, 0.0017, 0.2001, 0.8749, 0.6292,\n",
              "          0.2145, 0.4252],\n",
              "         [0.9094, 0.3723, 0.5447, 0.7847, 0.4161, 0.4286, 0.9696, 0.7447,\n",
              "          0.7664, 0.5409],\n",
              "         [0.0993, 0.4407, 0.2115, 0.6609, 0.1440, 0.5670, 0.7933, 0.5971,\n",
              "          0.6030, 0.9074],\n",
              "         [0.8027, 0.7356, 0.4472, 0.1343, 0.2386, 0.2151, 0.2820, 0.2811,\n",
              "          0.4364, 0.9110]]])"
            ]
          },
          "metadata": {},
          "execution_count": 23
        }
      ]
    },
    {
      "cell_type": "code",
      "source": [
        "# create random tensor with similar shape to an image tensor\n",
        "\n",
        "random_image_size_tensor = torch.rand(size=(224, 224, 3)) # height, width, color channels (R, G, B)\n",
        "random_image_size_tensor.ndim, random_image_size_tensor.shape"
      ],
      "metadata": {
        "colab": {
          "base_uri": "https://localhost:8080/"
        },
        "id": "G1EecLzl5kFt",
        "outputId": "a17a7878-9f87-4dd1-9b4e-20205804c71b"
      },
      "execution_count": 24,
      "outputs": [
        {
          "output_type": "execute_result",
          "data": {
            "text/plain": [
              "(3, torch.Size([224, 224, 3]))"
            ]
          },
          "metadata": {},
          "execution_count": 24
        }
      ]
    },
    {
      "cell_type": "markdown",
      "source": [
        "## Tensor of Zeros and Ones"
      ],
      "metadata": {
        "id": "sFDsceJh7lw9"
      }
    },
    {
      "cell_type": "code",
      "source": [
        "zeros = torch.zeros(size=(3, 4))\n",
        "zeros"
      ],
      "metadata": {
        "colab": {
          "base_uri": "https://localhost:8080/"
        },
        "id": "VD9KVg-V6Nwz",
        "outputId": "04d69bdf-c91a-4077-beb7-4757406647a0"
      },
      "execution_count": 25,
      "outputs": [
        {
          "output_type": "execute_result",
          "data": {
            "text/plain": [
              "tensor([[0., 0., 0., 0.],\n",
              "        [0., 0., 0., 0.],\n",
              "        [0., 0., 0., 0.]])"
            ]
          },
          "metadata": {},
          "execution_count": 25
        }
      ]
    },
    {
      "cell_type": "code",
      "source": [
        "ones = torch.ones(size=(3, 4))\n",
        "ones"
      ],
      "metadata": {
        "colab": {
          "base_uri": "https://localhost:8080/"
        },
        "id": "eE8n_Rb58C6E",
        "outputId": "f4a49ce8-bbd3-4111-9da3-eb6c022a7c61"
      },
      "execution_count": 26,
      "outputs": [
        {
          "output_type": "execute_result",
          "data": {
            "text/plain": [
              "tensor([[1., 1., 1., 1.],\n",
              "        [1., 1., 1., 1.],\n",
              "        [1., 1., 1., 1.]])"
            ]
          },
          "metadata": {},
          "execution_count": 26
        }
      ]
    },
    {
      "cell_type": "code",
      "source": [
        "ones.dtype"
      ],
      "metadata": {
        "colab": {
          "base_uri": "https://localhost:8080/"
        },
        "id": "hbH8RuvT8Lm_",
        "outputId": "d39693c7-a079-45f2-e5ac-2f3ffc0effcc"
      },
      "execution_count": 27,
      "outputs": [
        {
          "output_type": "execute_result",
          "data": {
            "text/plain": [
              "torch.float32"
            ]
          },
          "metadata": {},
          "execution_count": 27
        }
      ]
    },
    {
      "cell_type": "code",
      "source": [
        "zeros.dtype"
      ],
      "metadata": {
        "colab": {
          "base_uri": "https://localhost:8080/"
        },
        "id": "6ooI5YJc8Q1Z",
        "outputId": "176a5251-cc60-4657-e750-628b16636df1"
      },
      "execution_count": 28,
      "outputs": [
        {
          "output_type": "execute_result",
          "data": {
            "text/plain": [
              "torch.float32"
            ]
          },
          "metadata": {},
          "execution_count": 28
        }
      ]
    },
    {
      "cell_type": "markdown",
      "source": [
        "## Creating tensors in a range & tensors-lie"
      ],
      "metadata": {
        "id": "DQMbXjWh8aQU"
      }
    },
    {
      "cell_type": "code",
      "source": [
        "# use torch.range()\n",
        "torch.range(0, 10)"
      ],
      "metadata": {
        "colab": {
          "base_uri": "https://localhost:8080/"
        },
        "id": "tiGO278c8R-c",
        "outputId": "32f997d6-6a49-482d-b9d2-59256c508e90"
      },
      "execution_count": 29,
      "outputs": [
        {
          "output_type": "stream",
          "name": "stderr",
          "text": [
            "<ipython-input-29-d8a01f916eaa>:2: UserWarning: torch.range is deprecated and will be removed in a future release because its behavior is inconsistent with Python's range builtin. Instead, use torch.arange, which produces values in [start, end).\n",
            "  torch.range(0, 10)\n"
          ]
        },
        {
          "output_type": "execute_result",
          "data": {
            "text/plain": [
              "tensor([ 0.,  1.,  2.,  3.,  4.,  5.,  6.,  7.,  8.,  9., 10.])"
            ]
          },
          "metadata": {},
          "execution_count": 29
        }
      ]
    },
    {
      "cell_type": "markdown",
      "source": [
        "**UserWarning: torch.range is deprecated and will be removed in a future release because its behavior is inconsistent with Python's range builtin. Instead, use torch.arange, which produces values in [start, end).**"
      ],
      "metadata": {
        "id": "T-iWIofY-4iz"
      }
    },
    {
      "cell_type": "code",
      "source": [
        "torch.arange(0, 10)"
      ],
      "metadata": {
        "colab": {
          "base_uri": "https://localhost:8080/"
        },
        "id": "toeiH7jv-iTN",
        "outputId": "0dd99503-3b15-4aec-a3c0-bf681ade6838"
      },
      "execution_count": 30,
      "outputs": [
        {
          "output_type": "execute_result",
          "data": {
            "text/plain": [
              "tensor([0, 1, 2, 3, 4, 5, 6, 7, 8, 9])"
            ]
          },
          "metadata": {},
          "execution_count": 30
        }
      ]
    },
    {
      "cell_type": "code",
      "source": [
        "# use torch.arange()\n",
        "one_to_ten = torch.arange(start=1, end=10, step=3)\n",
        "one_to_ten"
      ],
      "metadata": {
        "colab": {
          "base_uri": "https://localhost:8080/"
        },
        "id": "CIKSrYd2-qK1",
        "outputId": "ffb4a613-ce6c-4945-f8c5-e362ac1fa0bc"
      },
      "execution_count": 31,
      "outputs": [
        {
          "output_type": "execute_result",
          "data": {
            "text/plain": [
              "tensor([1, 4, 7])"
            ]
          },
          "metadata": {},
          "execution_count": 31
        }
      ]
    },
    {
      "cell_type": "code",
      "source": [
        "ranged_tensor = torch.arange(1, 100, 9)\n",
        "ranged_tensor"
      ],
      "metadata": {
        "colab": {
          "base_uri": "https://localhost:8080/"
        },
        "id": "Bnwjz7kr_WdU",
        "outputId": "b77c2971-4610-4e2d-e10a-d2d936f4a610"
      },
      "execution_count": 32,
      "outputs": [
        {
          "output_type": "execute_result",
          "data": {
            "text/plain": [
              "tensor([ 1, 10, 19, 28, 37, 46, 55, 64, 73, 82, 91])"
            ]
          },
          "metadata": {},
          "execution_count": 32
        }
      ]
    },
    {
      "cell_type": "code",
      "source": [
        "# creating tensors like\n",
        "ten_ranged_tensor = torch.arange(1, 10+1, 1)\n",
        "zeros_like_ten_ranged_tensors = torch.zeros_like(input=ten_ranged_tensor)\n",
        "ten_ranged_tensor, zeros_like_ten_ranged_tensors"
      ],
      "metadata": {
        "colab": {
          "base_uri": "https://localhost:8080/"
        },
        "id": "c1MQTYGj_d31",
        "outputId": "e4ea7753-a188-4937-b5c6-f0a3fa579e55"
      },
      "execution_count": 33,
      "outputs": [
        {
          "output_type": "execute_result",
          "data": {
            "text/plain": [
              "(tensor([ 1,  2,  3,  4,  5,  6,  7,  8,  9, 10]),\n",
              " tensor([0, 0, 0, 0, 0, 0, 0, 0, 0, 0]))"
            ]
          },
          "metadata": {},
          "execution_count": 33
        }
      ]
    },
    {
      "cell_type": "markdown",
      "source": [
        "## Tensors Datatypes\n",
        "\n",
        "default date type = float32\n",
        "\n",
        "**Note:** Tensor datatypes is one of the 3 big errors you'll run into with PyTorch & Deep Learning:\n",
        "1. Tensors not right datatypes\n",
        "2. Tensors not right shape\n",
        "3. Tensors not on the right device\n",
        "\n",
        "**Official doc:** https://pytorch.org/docs/stable/tensors.html\n",
        "\n",
        "**Precision on Computing:** https://en.wikipedia.org/wiki/Precision_(computer_science)"
      ],
      "metadata": {
        "id": "XixdChSLEcRS"
      }
    },
    {
      "cell_type": "code",
      "source": [
        "# float 32 tensor\n",
        "\n",
        "float32_tensor = torch.tensor([3.0, 5.0, 4.0], dtype = None)\n",
        "float32_tensor, float32_tensor.dtype"
      ],
      "metadata": {
        "colab": {
          "base_uri": "https://localhost:8080/"
        },
        "id": "rGIIkPtiAGHE",
        "outputId": "1f48396c-bbb7-4449-fa0e-695c5cacc239"
      },
      "execution_count": 34,
      "outputs": [
        {
          "output_type": "execute_result",
          "data": {
            "text/plain": [
              "(tensor([3., 5., 4.]), torch.float32)"
            ]
          },
          "metadata": {},
          "execution_count": 34
        }
      ]
    },
    {
      "cell_type": "code",
      "source": [
        "float16_tensor = torch.tensor([3.0, 5.0, 4.0], dtype = torch.float16)\n",
        "float16_tensor"
      ],
      "metadata": {
        "colab": {
          "base_uri": "https://localhost:8080/"
        },
        "id": "D3Y4HDfUFMBG",
        "outputId": "2bf342f4-d01e-41cf-9121-3112a74773a0"
      },
      "execution_count": 35,
      "outputs": [
        {
          "output_type": "execute_result",
          "data": {
            "text/plain": [
              "tensor([3., 5., 4.], dtype=torch.float16)"
            ]
          },
          "metadata": {},
          "execution_count": 35
        }
      ]
    },
    {
      "cell_type": "code",
      "source": [
        "float16_tensor.dtype"
      ],
      "metadata": {
        "colab": {
          "base_uri": "https://localhost:8080/"
        },
        "id": "9S5QiDC0FW76",
        "outputId": "31991c23-7726-446d-ecff-dfb7fe113ef2"
      },
      "execution_count": 36,
      "outputs": [
        {
          "output_type": "execute_result",
          "data": {
            "text/plain": [
              "torch.float16"
            ]
          },
          "metadata": {},
          "execution_count": 36
        }
      ]
    },
    {
      "cell_type": "code",
      "source": [
        "float32_tensor2 = torch.tensor([3.0, 1.0, 8.0],\n",
        "                               dtype=None, # what datatypes is the tensor (e.g. float32 or float16)\n",
        "                               device=None, # which device is your tensor on (e.g. cpu, cuda)\n",
        "                               requires_grad=False) # whether or not to track gradients with this tensors operations\n",
        "float32_tensor2, float32_tensor2.dtype"
      ],
      "metadata": {
        "colab": {
          "base_uri": "https://localhost:8080/"
        },
        "id": "xe0Owz7NFdkQ",
        "outputId": "34d42b14-a7ae-40aa-c96e-f7b8c29cbd03"
      },
      "execution_count": 37,
      "outputs": [
        {
          "output_type": "execute_result",
          "data": {
            "text/plain": [
              "(tensor([3., 1., 8.]), torch.float32)"
            ]
          },
          "metadata": {},
          "execution_count": 37
        }
      ]
    },
    {
      "cell_type": "code",
      "source": [
        "float16_tensor = float32_tensor2.type(torch.float16) #torch.float16 or torch.half\n",
        "float16_tensor"
      ],
      "metadata": {
        "colab": {
          "base_uri": "https://localhost:8080/"
        },
        "id": "67veaii7HlqY",
        "outputId": "5fe742b1-f8fb-459a-ea71-84d2b47f75fa"
      },
      "execution_count": 38,
      "outputs": [
        {
          "output_type": "execute_result",
          "data": {
            "text/plain": [
              "tensor([3., 1., 8.], dtype=torch.float16)"
            ]
          },
          "metadata": {},
          "execution_count": 38
        }
      ]
    },
    {
      "cell_type": "code",
      "source": [
        "float16_tensor * float32_tensor2"
      ],
      "metadata": {
        "colab": {
          "base_uri": "https://localhost:8080/"
        },
        "id": "8y31SqVGI72R",
        "outputId": "f4d08dad-c29f-42c0-9331-da96f009272a"
      },
      "execution_count": 39,
      "outputs": [
        {
          "output_type": "execute_result",
          "data": {
            "text/plain": [
              "tensor([ 9.,  1., 64.])"
            ]
          },
          "metadata": {},
          "execution_count": 39
        }
      ]
    },
    {
      "cell_type": "code",
      "source": [
        "int32_tensor = torch.tensor([3, 2, 1], dtype = torch.int32)\n",
        "int32_tensor"
      ],
      "metadata": {
        "colab": {
          "base_uri": "https://localhost:8080/"
        },
        "id": "NZv9nZv2_pon",
        "outputId": "40e7d681-34bd-45b8-e909-847689acc07e"
      },
      "execution_count": 40,
      "outputs": [
        {
          "output_type": "execute_result",
          "data": {
            "text/plain": [
              "tensor([3, 2, 1], dtype=torch.int32)"
            ]
          },
          "metadata": {},
          "execution_count": 40
        }
      ]
    },
    {
      "cell_type": "code",
      "source": [
        "float32_tensor3 = torch.tensor([5, 4, 9], dtype=torch.float32)\n",
        "float32_tensor3"
      ],
      "metadata": {
        "colab": {
          "base_uri": "https://localhost:8080/"
        },
        "id": "r9A9lpcCACKe",
        "outputId": "7bdc4b1d-67d5-48c9-8cbb-47f5a4eeb4bf"
      },
      "execution_count": 41,
      "outputs": [
        {
          "output_type": "execute_result",
          "data": {
            "text/plain": [
              "tensor([5., 4., 9.])"
            ]
          },
          "metadata": {},
          "execution_count": 41
        }
      ]
    },
    {
      "cell_type": "code",
      "source": [
        "int32_tensor * float32_tensor3"
      ],
      "metadata": {
        "colab": {
          "base_uri": "https://localhost:8080/"
        },
        "id": "TIKLurS1AQ99",
        "outputId": "b2bb517f-1c7d-4b26-bf64-32213dc268b4"
      },
      "execution_count": 42,
      "outputs": [
        {
          "output_type": "execute_result",
          "data": {
            "text/plain": [
              "tensor([15.,  8.,  9.])"
            ]
          },
          "metadata": {},
          "execution_count": 42
        }
      ]
    },
    {
      "cell_type": "markdown",
      "source": [
        "## Getting information from tensors (tensor attributes)\n",
        "\n",
        "1. to get datatype from a tensor, we can use `tensor.dtype`\n",
        "2. to get shape from a tensor, we can use `tensor.shape`\n",
        "3. to get device from a tensor, we can use `tensor.device`"
      ],
      "metadata": {
        "id": "tzoA6O1P_d3P"
      }
    },
    {
      "cell_type": "markdown",
      "source": [
        "`a_tensor.shape` -> an attribute\n",
        "\n",
        "`a_tensor.size()` -> a function\n",
        "\n",
        "**but does the same work.**"
      ],
      "metadata": {
        "id": "ZDCMyCzuBWXc"
      }
    },
    {
      "cell_type": "markdown",
      "source": [
        "**Creating a tensor(float64)**"
      ],
      "metadata": {
        "id": "bDEiGQBDJGQS"
      }
    },
    {
      "cell_type": "code",
      "source": [
        "# create a tensor(int)\n",
        "\n",
        "a_tensor = torch.rand(3, 4)\n",
        "# a_tensor = torch.rand(3, 4, device=torch.device(\"cuda\"))\n",
        "a_tensor"
      ],
      "metadata": {
        "id": "xo2_WB1ZJizE",
        "colab": {
          "base_uri": "https://localhost:8080/"
        },
        "outputId": "a4d6c8b1-6e6c-4a80-c95d-496736fd66a3"
      },
      "execution_count": 43,
      "outputs": [
        {
          "output_type": "execute_result",
          "data": {
            "text/plain": [
              "tensor([[0.5794, 0.2376, 0.7244, 0.6007],\n",
              "        [0.9379, 0.1344, 0.7337, 0.2556],\n",
              "        [0.2235, 0.0977, 0.2188, 0.7914]])"
            ]
          },
          "metadata": {},
          "execution_count": 43
        }
      ]
    },
    {
      "cell_type": "code",
      "source": [
        "# find out details about that tensor\n",
        "print(a_tensor)\n",
        "print(f\"Datetype of the tensor: {a_tensor.dtype}\")\n",
        "print(f\"Shape of the tensor: {a_tensor.shape}\")\n",
        "print(f\"Device of the tensor: {a_tensor.device}\")"
      ],
      "metadata": {
        "colab": {
          "base_uri": "https://localhost:8080/"
        },
        "id": "PD7rXyIfI2CE",
        "outputId": "a4472543-b864-4c6d-c37f-f3c253037b22"
      },
      "execution_count": 44,
      "outputs": [
        {
          "output_type": "stream",
          "name": "stdout",
          "text": [
            "tensor([[0.5794, 0.2376, 0.7244, 0.6007],\n",
            "        [0.9379, 0.1344, 0.7337, 0.2556],\n",
            "        [0.2235, 0.0977, 0.2188, 0.7914]])\n",
            "Datetype of the tensor: torch.float32\n",
            "Shape of the tensor: torch.Size([3, 4])\n",
            "Device of the tensor: cpu\n"
          ]
        }
      ]
    },
    {
      "cell_type": "markdown",
      "source": [
        "**Creating a int64 tensor**"
      ],
      "metadata": {
        "id": "UJLJj_UmI-q9"
      }
    },
    {
      "cell_type": "code",
      "source": [
        "# create a tensor(int64)\n",
        "a_tensor_int = torch.randint(1, (2, 2))\n",
        "a_tensor_int2 = torch.randint(low=0, high=100, size=(5,6), dtype=torch.int64, device=torch.device('cuda'))"
      ],
      "metadata": {
        "colab": {
          "base_uri": "https://localhost:8080/",
          "height": 332
        },
        "id": "942TEs4HCPdN",
        "outputId": "700f7e6f-0d88-428c-c12e-ae8d13517e00"
      },
      "execution_count": 46,
      "outputs": [
        {
          "output_type": "error",
          "ename": "RuntimeError",
          "evalue": "Found no NVIDIA driver on your system. Please check that you have an NVIDIA GPU and installed a driver from http://www.nvidia.com/Download/index.aspx",
          "traceback": [
            "\u001b[0;31m---------------------------------------------------------------------------\u001b[0m",
            "\u001b[0;31mRuntimeError\u001b[0m                              Traceback (most recent call last)",
            "\u001b[0;32m<ipython-input-46-f6ad67575399>\u001b[0m in \u001b[0;36m<cell line: 3>\u001b[0;34m()\u001b[0m\n\u001b[1;32m      1\u001b[0m \u001b[0;31m# create a tensor(int64)\u001b[0m\u001b[0;34m\u001b[0m\u001b[0;34m\u001b[0m\u001b[0m\n\u001b[1;32m      2\u001b[0m \u001b[0ma_tensor_int\u001b[0m \u001b[0;34m=\u001b[0m \u001b[0mtorch\u001b[0m\u001b[0;34m.\u001b[0m\u001b[0mrandint\u001b[0m\u001b[0;34m(\u001b[0m\u001b[0;36m1\u001b[0m\u001b[0;34m,\u001b[0m \u001b[0;34m(\u001b[0m\u001b[0;36m2\u001b[0m\u001b[0;34m,\u001b[0m \u001b[0;36m2\u001b[0m\u001b[0;34m)\u001b[0m\u001b[0;34m)\u001b[0m\u001b[0;34m\u001b[0m\u001b[0;34m\u001b[0m\u001b[0m\n\u001b[0;32m----> 3\u001b[0;31m \u001b[0ma_tensor_int2\u001b[0m \u001b[0;34m=\u001b[0m \u001b[0mtorch\u001b[0m\u001b[0;34m.\u001b[0m\u001b[0mrandint\u001b[0m\u001b[0;34m(\u001b[0m\u001b[0mlow\u001b[0m\u001b[0;34m=\u001b[0m\u001b[0;36m0\u001b[0m\u001b[0;34m,\u001b[0m \u001b[0mhigh\u001b[0m\u001b[0;34m=\u001b[0m\u001b[0;36m100\u001b[0m\u001b[0;34m,\u001b[0m \u001b[0msize\u001b[0m\u001b[0;34m=\u001b[0m\u001b[0;34m(\u001b[0m\u001b[0;36m5\u001b[0m\u001b[0;34m,\u001b[0m\u001b[0;36m6\u001b[0m\u001b[0;34m)\u001b[0m\u001b[0;34m,\u001b[0m \u001b[0mdtype\u001b[0m\u001b[0;34m=\u001b[0m\u001b[0mtorch\u001b[0m\u001b[0;34m.\u001b[0m\u001b[0mint64\u001b[0m\u001b[0;34m,\u001b[0m \u001b[0mdevice\u001b[0m\u001b[0;34m=\u001b[0m\u001b[0mtorch\u001b[0m\u001b[0;34m.\u001b[0m\u001b[0mdevice\u001b[0m\u001b[0;34m(\u001b[0m\u001b[0;34m'cuda'\u001b[0m\u001b[0;34m)\u001b[0m\u001b[0;34m)\u001b[0m\u001b[0;34m\u001b[0m\u001b[0;34m\u001b[0m\u001b[0m\n\u001b[0m",
            "\u001b[0;32m/usr/local/lib/python3.10/dist-packages/torch/cuda/__init__.py\u001b[0m in \u001b[0;36m_lazy_init\u001b[0;34m()\u001b[0m\n\u001b[1;32m    291\u001b[0m         \u001b[0;32mif\u001b[0m \u001b[0;34m\"CUDA_MODULE_LOADING\"\u001b[0m \u001b[0;32mnot\u001b[0m \u001b[0;32min\u001b[0m \u001b[0mos\u001b[0m\u001b[0;34m.\u001b[0m\u001b[0menviron\u001b[0m\u001b[0;34m:\u001b[0m\u001b[0;34m\u001b[0m\u001b[0;34m\u001b[0m\u001b[0m\n\u001b[1;32m    292\u001b[0m             \u001b[0mos\u001b[0m\u001b[0;34m.\u001b[0m\u001b[0menviron\u001b[0m\u001b[0;34m[\u001b[0m\u001b[0;34m\"CUDA_MODULE_LOADING\"\u001b[0m\u001b[0;34m]\u001b[0m \u001b[0;34m=\u001b[0m \u001b[0;34m\"LAZY\"\u001b[0m\u001b[0;34m\u001b[0m\u001b[0;34m\u001b[0m\u001b[0m\n\u001b[0;32m--> 293\u001b[0;31m         \u001b[0mtorch\u001b[0m\u001b[0;34m.\u001b[0m\u001b[0m_C\u001b[0m\u001b[0;34m.\u001b[0m\u001b[0m_cuda_init\u001b[0m\u001b[0;34m(\u001b[0m\u001b[0;34m)\u001b[0m\u001b[0;34m\u001b[0m\u001b[0;34m\u001b[0m\u001b[0m\n\u001b[0m\u001b[1;32m    294\u001b[0m         \u001b[0;31m# Some of the queued calls may reentrantly call _lazy_init();\u001b[0m\u001b[0;34m\u001b[0m\u001b[0;34m\u001b[0m\u001b[0m\n\u001b[1;32m    295\u001b[0m         \u001b[0;31m# we need to just return without initializing in that case.\u001b[0m\u001b[0;34m\u001b[0m\u001b[0;34m\u001b[0m\u001b[0m\n",
            "\u001b[0;31mRuntimeError\u001b[0m: Found no NVIDIA driver on your system. Please check that you have an NVIDIA GPU and installed a driver from http://www.nvidia.com/Download/index.aspx"
          ]
        }
      ]
    },
    {
      "cell_type": "code",
      "source": [
        "# find out details about that tensor\n",
        "print(a_tensor_int2)\n",
        "print(f\"Datatype of the tensor: {a_tensor_int2.dtype}\")\n",
        "print(f\"Shape of the tensor: {a_tensor_int2.shape}\")\n",
        "print(f\"Device, the tensor is on: {a_tensor_int2.device}\")"
      ],
      "metadata": {
        "colab": {
          "base_uri": "https://localhost:8080/",
          "height": 211
        },
        "id": "crZ-rJ9BEAgI",
        "outputId": "dd8b2f75-b1ad-41bd-fe58-3d5b760e4372"
      },
      "execution_count": 47,
      "outputs": [
        {
          "output_type": "error",
          "ename": "NameError",
          "evalue": "name 'a_tensor_int2' is not defined",
          "traceback": [
            "\u001b[0;31m---------------------------------------------------------------------------\u001b[0m",
            "\u001b[0;31mNameError\u001b[0m                                 Traceback (most recent call last)",
            "\u001b[0;32m<ipython-input-47-1fcc35d03372>\u001b[0m in \u001b[0;36m<cell line: 2>\u001b[0;34m()\u001b[0m\n\u001b[1;32m      1\u001b[0m \u001b[0;31m# find out details about that tensor\u001b[0m\u001b[0;34m\u001b[0m\u001b[0;34m\u001b[0m\u001b[0m\n\u001b[0;32m----> 2\u001b[0;31m \u001b[0mprint\u001b[0m\u001b[0;34m(\u001b[0m\u001b[0ma_tensor_int2\u001b[0m\u001b[0;34m)\u001b[0m\u001b[0;34m\u001b[0m\u001b[0;34m\u001b[0m\u001b[0m\n\u001b[0m\u001b[1;32m      3\u001b[0m \u001b[0mprint\u001b[0m\u001b[0;34m(\u001b[0m\u001b[0;34mf\"Datatype of the tensor: {a_tensor_int2.dtype}\"\u001b[0m\u001b[0;34m)\u001b[0m\u001b[0;34m\u001b[0m\u001b[0;34m\u001b[0m\u001b[0m\n\u001b[1;32m      4\u001b[0m \u001b[0mprint\u001b[0m\u001b[0;34m(\u001b[0m\u001b[0;34mf\"Shape of the tensor: {a_tensor_int2.shape}\"\u001b[0m\u001b[0;34m)\u001b[0m\u001b[0;34m\u001b[0m\u001b[0;34m\u001b[0m\u001b[0m\n\u001b[1;32m      5\u001b[0m \u001b[0mprint\u001b[0m\u001b[0;34m(\u001b[0m\u001b[0;34mf\"Device, the tensor is on: {a_tensor_int2.device}\"\u001b[0m\u001b[0;34m)\u001b[0m\u001b[0;34m\u001b[0m\u001b[0;34m\u001b[0m\u001b[0m\n",
            "\u001b[0;31mNameError\u001b[0m: name 'a_tensor_int2' is not defined"
          ]
        }
      ]
    },
    {
      "cell_type": "markdown",
      "source": [
        "## Manipulating Tensors (tensor operations)\n",
        " Tensor operations include:\n",
        "1. Addition\n",
        "2. Subtraction\n",
        "3. Multiplication (element-wise)\n",
        "4. division\n",
        "5. Matrix multiplication"
      ],
      "metadata": {
        "id": "eOnAkt-3MbMx"
      }
    },
    {
      "cell_type": "code",
      "source": [
        "# addition, subtraction, mul & div\n",
        "\n",
        "tensor = torch.tensor([1, 2, 4])\n",
        "\n",
        "print(f\"Tensor: {tensor}\")\n",
        "print(f\"Addition: {tensor + 10}\")\n",
        "print(f\"Substraction: {tensor - 10}\")\n",
        "print(f\"Multiplication: {tensor * 10}\")\n",
        "print(f\"Division: {tensor / 10}\")"
      ],
      "metadata": {
        "id": "D48HrzBGHz9N"
      },
      "execution_count": null,
      "outputs": []
    },
    {
      "cell_type": "code",
      "source": [
        "# in-build functions of PyTorch\n",
        "\n",
        "print(torch.add(tensor, 10))\n",
        "print(torch.sub(tensor, 10))\n",
        "print(torch.mul(tensor, 10))\n",
        "print(torch.div(tensor, 10))"
      ],
      "metadata": {
        "id": "Eqr0XnXEP-j3"
      },
      "execution_count": null,
      "outputs": []
    },
    {
      "cell_type": "markdown",
      "source": [
        "***Matrix Multiplication:***\n",
        "\n",
        "there are two types of multiplications in neural network and deep learning:\n",
        "\n",
        "i) element-wise multiplication\n",
        "\n",
        "ii) matrix multiplication (dot product)\n",
        "\n",
        "***Matrix Multi.*** is by far the most used tensor operation inside neural network"
      ],
      "metadata": {
        "id": "jxGo8nmpUV6d"
      }
    },
    {
      "cell_type": "code",
      "source": [
        "# element wise multiplication:\n",
        "\n",
        "print(tensor)\n",
        "print(tensor, \" * \", tensor, \" = \", tensor * tensor)"
      ],
      "metadata": {
        "id": "LFUeup_iQLqv"
      },
      "execution_count": null,
      "outputs": []
    },
    {
      "cell_type": "code",
      "source": [
        "# Matrix multiplication:\n",
        "\n",
        "torch.matmul(tensor, tensor)"
      ],
      "metadata": {
        "id": "g484c7-xXUIw"
      },
      "execution_count": null,
      "outputs": []
    },
    {
      "cell_type": "code",
      "source": [
        "# Matrix multiplication by hand;\n",
        "\n",
        "1*1 + 2*2 + 4*4"
      ],
      "metadata": {
        "id": "IpnJFD2dXyAv"
      },
      "execution_count": null,
      "outputs": []
    },
    {
      "cell_type": "markdown",
      "source": [
        "**let's check the time difference between \"using loop\" vs \"PyTorch function\"**"
      ],
      "metadata": {
        "id": "bD4WkvNkYQ7z"
      }
    },
    {
      "cell_type": "code",
      "source": [
        "%%time\n",
        "\n",
        "value = 0\n",
        "for i in range(len(tensor)):\n",
        "    value += tensor[i] * tensor[i]\n",
        "print(value)"
      ],
      "metadata": {
        "colab": {
          "base_uri": "https://localhost:8080/",
          "height": 124
        },
        "id": "i-ocLBGeX5Bf",
        "outputId": "391326c9-7be3-4ab8-ecac-c1e053b069af"
      },
      "execution_count": 48,
      "outputs": [
        {
          "output_type": "error",
          "ename": "NameError",
          "evalue": "name 'tensor' is not defined",
          "traceback": [
            "\u001b[0;31m---------------------------------------------------------------------------\u001b[0m",
            "\u001b[0;31mNameError\u001b[0m                                 Traceback (most recent call last)",
            "\u001b[0;32m<timed exec>\u001b[0m in \u001b[0;36m<module>\u001b[0;34m\u001b[0m\n",
            "\u001b[0;31mNameError\u001b[0m: name 'tensor' is not defined"
          ]
        }
      ]
    },
    {
      "cell_type": "code",
      "source": [
        "%%time\n",
        "\n",
        "torch.matmul(tensor, tensor)"
      ],
      "metadata": {
        "colab": {
          "base_uri": "https://localhost:8080/",
          "height": 124
        },
        "id": "X1qjc7i8YME1",
        "outputId": "b0897a9d-2de2-409e-fd0a-ae234c04f26b"
      },
      "execution_count": 49,
      "outputs": [
        {
          "output_type": "error",
          "ename": "NameError",
          "evalue": "name 'tensor' is not defined",
          "traceback": [
            "\u001b[0;31m---------------------------------------------------------------------------\u001b[0m",
            "\u001b[0;31mNameError\u001b[0m                                 Traceback (most recent call last)",
            "\u001b[0;32m<timed eval>\u001b[0m in \u001b[0;36m<module>\u001b[0;34m\u001b[0m\n",
            "\u001b[0;31mNameError\u001b[0m: name 'tensor' is not defined"
          ]
        }
      ]
    },
    {
      "cell_type": "markdown",
      "source": [
        "The @ operator, introduced in Python 3.5 as the matrix multiplication operator (PEP 465), is essentially syntactic sugar for matrix multiplication. In PyTorch, it behaves similarly to torch.matmul for 2D tensors.\n",
        "\n",
        "both torch.matmul and the @ operator are useful for matrix multiplication in PyTorch. For simple and straightforward 2D matrix multiplications, the @ operator is often more concise and readable. **For more complex operations, especially involving higher-dimensional tensors and broadcasting, torch.matmul is the better choice.**"
      ],
      "metadata": {
        "id": "W38bIMbjagTi"
      }
    },
    {
      "cell_type": "markdown",
      "source": [
        "Rules that need to be satisfied when performing matrix multiplication:\n",
        "\n",
        "1. The **inner dimension** must match:\n",
        "\n",
        "* `(3, 2) @ (3, 2)` won't work\n",
        "* `(2, 3) @ (3, 2)` will work\n",
        "* `(3, 2) @ (2, 3)` will work\n",
        "\n",
        "2. The resulting matrix has the shape of the **outer dimension**:\n",
        "\n",
        "* `(2, 3) @ (3, 2)` -> `(2, 2)`\n",
        "* `(3, 2) @ (2, 3)` -> `(3, 3)`"
      ],
      "metadata": {
        "id": "0VT3B61hZTMk"
      }
    },
    {
      "cell_type": "markdown",
      "source": [
        "`torch.matmul(torch.rand(3, 2), torch.rand(3, 2))`\n",
        "\n",
        "gives the following error:\n",
        "\n",
        "RuntimeError                              Traceback (most recent call last)\n",
        "<ipython-input-91-9adeb7046560> in <cell line: 1>()\n",
        "----> 1 torch.matmul(torch.rand(3, 2), torch.rand(3, 2))\n",
        "\n",
        "RuntimeError: mat1 and mat2 shapes cannot be multiplied (3x2 and 3x2)"
      ],
      "metadata": {
        "id": "v-ZoqfCMYYQs"
      }
    },
    {
      "cell_type": "code",
      "source": [
        "torch.matmul(torch.rand(2, 3), torch.rand(3, 2))"
      ],
      "metadata": {
        "colab": {
          "base_uri": "https://localhost:8080/"
        },
        "id": "Ewki5kL_biEv",
        "outputId": "f44bc625-a700-4806-d0db-a6b17c81fdd2"
      },
      "execution_count": 50,
      "outputs": [
        {
          "output_type": "execute_result",
          "data": {
            "text/plain": [
              "tensor([[0.1980, 0.6128],\n",
              "        [0.4959, 0.7672]])"
            ]
          },
          "metadata": {},
          "execution_count": 50
        }
      ]
    },
    {
      "cell_type": "code",
      "source": [
        "torch.matmul(torch.rand(2, 4), torch.rand(4, 3)).shape"
      ],
      "metadata": {
        "colab": {
          "base_uri": "https://localhost:8080/"
        },
        "id": "tqGECSIkcLOs",
        "outputId": "c7e8e93e-84ad-49f0-e77c-98ce9e9f38b2"
      },
      "execution_count": 51,
      "outputs": [
        {
          "output_type": "execute_result",
          "data": {
            "text/plain": [
              "torch.Size([2, 3])"
            ]
          },
          "metadata": {},
          "execution_count": 51
        }
      ]
    },
    {
      "cell_type": "markdown",
      "source": [
        "**One of the most common errors in deep learning:** shape error"
      ],
      "metadata": {
        "id": "MKfl4TsQ62YB"
      }
    },
    {
      "cell_type": "code",
      "source": [
        "# matrices for Matrix Multiplication:\n",
        "\n",
        "tensor_x = torch.tensor([[1, 2],\n",
        "                        [3, 4],\n",
        "                        [5, 6]])\n",
        "\n",
        "tensor_y = torch.tensor([[7, 8],\n",
        "                        [9, 10],\n",
        "                        [11, 12]])"
      ],
      "metadata": {
        "id": "hfzwsEkekBMT"
      },
      "execution_count": 52,
      "outputs": []
    },
    {
      "cell_type": "markdown",
      "source": [
        "`torch.mm()` is the short alias for `torch.matmul()`"
      ],
      "metadata": {
        "id": "wZ3xEctC_OuX"
      }
    },
    {
      "cell_type": "markdown",
      "source": [
        "`torch.mm(tensor_x, tensor_y)`\n",
        "\n",
        "**Shows the following error**:\n",
        "\n",
        "RuntimeError:                             Traceback (most recent call last)\n",
        "\n",
        "----> 1 torch.mm(tensor_x, tensor_y)\n",
        "\n",
        "RuntimeError: mat1 and mat2 shapes cannot be multiplied (3x2 and 3x2)"
      ],
      "metadata": {
        "id": "TzMPX3Zc-hvW"
      }
    },
    {
      "cell_type": "markdown",
      "source": [
        "`tensor.T` -> gives Transpose of matrix \"tensor\""
      ],
      "metadata": {
        "id": "_ILMW-QE_s0g"
      }
    },
    {
      "cell_type": "code",
      "source": [
        "# Transposing one of the two matrices so that inner dimension matches\n",
        "\n",
        "print(tensor_y.T)"
      ],
      "metadata": {
        "colab": {
          "base_uri": "https://localhost:8080/"
        },
        "id": "whp6Ayg4_MCp",
        "outputId": "96ad632f-bd3e-49d0-f618-293b081d8ac1"
      },
      "execution_count": 53,
      "outputs": [
        {
          "output_type": "stream",
          "name": "stdout",
          "text": [
            "tensor([[ 7,  9, 11],\n",
            "        [ 8, 10, 12]])\n"
          ]
        }
      ]
    },
    {
      "cell_type": "code",
      "source": [
        "torch.mm(tensor_x, tensor_y.T)"
      ],
      "metadata": {
        "colab": {
          "base_uri": "https://localhost:8080/"
        },
        "id": "F0mx5vFJ_ht9",
        "outputId": "858618c1-ac3c-4e06-e0d7-1856c0aab976"
      },
      "execution_count": 54,
      "outputs": [
        {
          "output_type": "execute_result",
          "data": {
            "text/plain": [
              "tensor([[ 23,  29,  35],\n",
              "        [ 53,  67,  81],\n",
              "        [ 83, 105, 127]])"
            ]
          },
          "metadata": {},
          "execution_count": 54
        }
      ]
    },
    {
      "cell_type": "code",
      "source": [
        "print(f\"Before (Transpose): tensor_x = {tensor_x.shape}, tensor_y = {tensor_y.shape}\")\n",
        "print(f\"After (Transpose): tensor_x = {tensor_x.shape}, tensor_y = {tensor_y.T.shape}\")\n",
        "print(\"\\n\")\n",
        "\n",
        "print(f\"Tensor_x = {tensor_x}\")\n",
        "print(f\"Tensor_y.T = {tensor_y.T}\")\n",
        "print(\"\\n\")\n",
        "print(\"Matrix Multiplication: \")\n",
        "print(f\"tensor_x @ tensor_y = \")\n",
        "print(torch.mm(tensor_x, tensor_y.T))\n",
        "print(f\"Shape of tensor_x @ tensor_y.T = {torch.mm(tensor_x, tensor_y.T).shape}\")"
      ],
      "metadata": {
        "colab": {
          "base_uri": "https://localhost:8080/"
        },
        "id": "cWsgcyBj_57I",
        "outputId": "9ecf5472-5f76-4640-fe00-3a226132a174"
      },
      "execution_count": 55,
      "outputs": [
        {
          "output_type": "stream",
          "name": "stdout",
          "text": [
            "Before (Transpose): tensor_x = torch.Size([3, 2]), tensor_y = torch.Size([3, 2])\n",
            "After (Transpose): tensor_x = torch.Size([3, 2]), tensor_y = torch.Size([2, 3])\n",
            "\n",
            "\n",
            "Tensor_x = tensor([[1, 2],\n",
            "        [3, 4],\n",
            "        [5, 6]])\n",
            "Tensor_y.T = tensor([[ 7,  9, 11],\n",
            "        [ 8, 10, 12]])\n",
            "\n",
            "\n",
            "Matrix Multiplication: \n",
            "tensor_x @ tensor_y = \n",
            "tensor([[ 23,  29,  35],\n",
            "        [ 53,  67,  81],\n",
            "        [ 83, 105, 127]])\n",
            "Shape of tensor_x @ tensor_y.T = torch.Size([3, 3])\n"
          ]
        }
      ]
    },
    {
      "cell_type": "markdown",
      "source": [
        "## Finding the min, max, mean, sum, etc (Tensor aggregation)\n",
        "\n",
        "**aggregation** because we'er going from large amount of numbers to small amount of numbers."
      ],
      "metadata": {
        "id": "cxURT-OCKceM"
      }
    },
    {
      "cell_type": "code",
      "source": [
        "# create a tensor\n",
        "x = torch.arange(1, 51, 5)\n",
        "x"
      ],
      "metadata": {
        "colab": {
          "base_uri": "https://localhost:8080/"
        },
        "id": "ufJ6LMA1AWlY",
        "outputId": "c4ad4b64-98ed-45ae-b811-78d5439c2da2"
      },
      "execution_count": 56,
      "outputs": [
        {
          "output_type": "execute_result",
          "data": {
            "text/plain": [
              "tensor([ 1,  6, 11, 16, 21, 26, 31, 36, 41, 46])"
            ]
          },
          "metadata": {},
          "execution_count": 56
        }
      ]
    },
    {
      "cell_type": "code",
      "source": [
        "# finding the min\n",
        "\n",
        "torch.min(x), x.min()  # either of these syntaxs work, they bascially do the same thing BTS"
      ],
      "metadata": {
        "colab": {
          "base_uri": "https://localhost:8080/"
        },
        "id": "tUfoMVTNMDj5",
        "outputId": "382b6358-f871-433a-f11d-5026067b7f4e"
      },
      "execution_count": 57,
      "outputs": [
        {
          "output_type": "execute_result",
          "data": {
            "text/plain": [
              "(tensor(1), tensor(1))"
            ]
          },
          "metadata": {},
          "execution_count": 57
        }
      ]
    },
    {
      "cell_type": "code",
      "source": [
        "# finding the max\n",
        "\n",
        "torch.max(x), x.max()"
      ],
      "metadata": {
        "colab": {
          "base_uri": "https://localhost:8080/"
        },
        "id": "FzVuGrANMSL-",
        "outputId": "0999b1b4-82f6-41f1-e148-9cfe26f7e83c"
      },
      "execution_count": 58,
      "outputs": [
        {
          "output_type": "execute_result",
          "data": {
            "text/plain": [
              "(tensor(46), tensor(46))"
            ]
          },
          "metadata": {},
          "execution_count": 58
        }
      ]
    },
    {
      "cell_type": "code",
      "source": [
        "# finding the mean -> Note: the `torch.mean()` function requires a tensor of floating point or complex type to work\n",
        "\n",
        "print(x.dtype)\n",
        "torch.mean(x.type(torch.float32)), x.type(torch.float32).mean()"
      ],
      "metadata": {
        "colab": {
          "base_uri": "https://localhost:8080/"
        },
        "id": "EeKp6-RwMWFd",
        "outputId": "dbe7402a-e21a-4a6a-a494-0928cf9a0cdb"
      },
      "execution_count": 59,
      "outputs": [
        {
          "output_type": "stream",
          "name": "stdout",
          "text": [
            "torch.int64\n"
          ]
        },
        {
          "output_type": "execute_result",
          "data": {
            "text/plain": [
              "(tensor(23.5000), tensor(23.5000))"
            ]
          },
          "metadata": {},
          "execution_count": 59
        }
      ]
    },
    {
      "cell_type": "code",
      "source": [
        "# finding the sum\n",
        "\n",
        "torch.sum(x), x.sum()"
      ],
      "metadata": {
        "colab": {
          "base_uri": "https://localhost:8080/"
        },
        "id": "9izzFqsAMk5X",
        "outputId": "759811c4-ff10-4de0-d5f2-080366b10df6"
      },
      "execution_count": 60,
      "outputs": [
        {
          "output_type": "execute_result",
          "data": {
            "text/plain": [
              "(tensor(235), tensor(235))"
            ]
          },
          "metadata": {},
          "execution_count": 60
        }
      ]
    },
    {
      "cell_type": "markdown",
      "source": [
        "**Positional min & max, known as Arg min & Arg max**\n",
        "\n",
        "basically at which idx, min and max are *occurring*"
      ],
      "metadata": {
        "id": "hr8eg1ZzNARl"
      }
    },
    {
      "cell_type": "code",
      "source": [
        "# arg min (positional min)\n",
        "\n",
        "torch.argmin(x), x.argmin()"
      ],
      "metadata": {
        "colab": {
          "base_uri": "https://localhost:8080/"
        },
        "id": "tzz35IdsM6gV",
        "outputId": "04732f3e-39db-43af-c5e7-a6011438f9ca"
      },
      "execution_count": 61,
      "outputs": [
        {
          "output_type": "execute_result",
          "data": {
            "text/plain": [
              "(tensor(0), tensor(0))"
            ]
          },
          "metadata": {},
          "execution_count": 61
        }
      ]
    },
    {
      "cell_type": "code",
      "source": [
        "# arg max (positional max)\n",
        "\n",
        "torch.argmax(x), x.argmax()"
      ],
      "metadata": {
        "colab": {
          "base_uri": "https://localhost:8080/"
        },
        "id": "ciZbZMyNNQ2i",
        "outputId": "a658553b-1985-4416-d0c4-a82ce4bfe3b4"
      },
      "execution_count": 62,
      "outputs": [
        {
          "output_type": "execute_result",
          "data": {
            "text/plain": [
              "(tensor(9), tensor(9))"
            ]
          },
          "metadata": {},
          "execution_count": 62
        }
      ]
    },
    {
      "cell_type": "markdown",
      "source": [
        "Sometimes we don't the actual min/max value, but just want to know where they appear. This is helpful, when we use the **softmax activation** later on."
      ],
      "metadata": {
        "id": "27yYhMIqOI5i"
      }
    },
    {
      "cell_type": "markdown",
      "source": [
        "## Reshaping, stacking, squeezing and unsqueezing tensors\n",
        "\n",
        "* Reshaping - reshapes an input tensor to a defined shape\n",
        "\n",
        "* View - Return a view of an input tensor of certain shape but keep the same memory as the original tensor\n",
        "\n",
        "* Stacking - combine multiple tensors on top of each other (vstack - vertical stack) or side by side (hstack - horizontal stack)\n",
        "\n",
        "* Squeeze - removes all `1` dimensions from a tenor\n",
        "\n",
        "* Unsqueeze - adds a `1` dimension to a target tensor\n",
        "\n",
        "* Permute - Return a view of the input with dimensions permuted (swapped) in a certail way"
      ],
      "metadata": {
        "id": "bcTSLgR_tgdG"
      }
    },
    {
      "cell_type": "code",
      "source": [
        "# let's create a tensor\n",
        "\n",
        "tensor_a = torch.arange(1.0, 10.0)\n",
        "tensor_a, tensor_a.shape"
      ],
      "metadata": {
        "colab": {
          "base_uri": "https://localhost:8080/"
        },
        "id": "ZHkIUsa5NYYk",
        "outputId": "829a911b-8b0f-4ab1-cb0f-aa7fc2c212ef"
      },
      "execution_count": 64,
      "outputs": [
        {
          "output_type": "execute_result",
          "data": {
            "text/plain": [
              "(tensor([1., 2., 3., 4., 5., 6., 7., 8., 9.]), torch.Size([9]))"
            ]
          },
          "metadata": {},
          "execution_count": 64
        }
      ]
    },
    {
      "cell_type": "code",
      "source": [
        "# add an extra dimension\n",
        "# reshape() needs to be compatible with the original dimension\n",
        "# tensor_a_reshaped = tensor_a.reshape(1, 7) -> gives error\n",
        "# tensor_a_reshaped = tensor_a.reshape(7, 1) -> gives error\n",
        "tensor_a_reshaped = tensor_a.reshape(1, 9) # works\n",
        "print(tensor_a_reshaped, \" \", tensor_a_reshaped.shape)\n",
        "tensor_a_reshaped = tensor_a.reshape(9, 1)\n",
        "print(tensor_a_reshaped, \" \", tensor_a_reshaped.shape)"
      ],
      "metadata": {
        "colab": {
          "base_uri": "https://localhost:8080/"
        },
        "id": "ZP-PNcpOyMJ0",
        "outputId": "1045099e-5f74-40c9-f760-1c9edcd429ce"
      },
      "execution_count": 68,
      "outputs": [
        {
          "output_type": "stream",
          "name": "stdout",
          "text": [
            "tensor([[1., 2., 3., 4., 5., 6., 7., 8., 9.]])   torch.Size([1, 9])\n",
            "tensor([[1.],\n",
            "        [2.],\n",
            "        [3.],\n",
            "        [4.],\n",
            "        [5.],\n",
            "        [6.],\n",
            "        [7.],\n",
            "        [8.],\n",
            "        [9.]])   torch.Size([9, 1])\n"
          ]
        }
      ]
    },
    {
      "cell_type": "code",
      "source": [
        "tensor_b = torch.arange(1.0, 13.0)\n",
        "print(\"Original tensor_b = \", tensor_b, \" \", tensor_b.shape)\n",
        "tensor_b_reshaped = tensor_b.reshape(3, 4)\n",
        "print(\"After reshaping: \", tensor_b_reshaped, \" \", tensor_b.shape)"
      ],
      "metadata": {
        "colab": {
          "base_uri": "https://localhost:8080/"
        },
        "id": "KGy78uUByy-p",
        "outputId": "540469ea-ebfb-4c94-cb55-d806fd00c8fa"
      },
      "execution_count": 70,
      "outputs": [
        {
          "output_type": "stream",
          "name": "stdout",
          "text": [
            "Original tensor_b =  tensor([ 1.,  2.,  3.,  4.,  5.,  6.,  7.,  8.,  9., 10., 11., 12.])   torch.Size([12])\n",
            "After reshaping:  tensor([[ 1.,  2.,  3.,  4.],\n",
            "        [ 5.,  6.,  7.,  8.],\n",
            "        [ 9., 10., 11., 12.]])   torch.Size([12])\n"
          ]
        }
      ]
    },
    {
      "cell_type": "code",
      "source": [
        "# change the view\n",
        "\n",
        "abc = tensor_b.view(1, 12)   #name.view(a, b) where a & b both are included\n",
        "abc, abc.shape"
      ],
      "metadata": {
        "colab": {
          "base_uri": "https://localhost:8080/"
        },
        "id": "qSNkfwkn0D8i",
        "outputId": "7478873c-529c-4832-be2d-3068ffc7c44a"
      },
      "execution_count": 74,
      "outputs": [
        {
          "output_type": "execute_result",
          "data": {
            "text/plain": [
              "(tensor([[ 1.,  2.,  3.,  4.,  5.,  6.,  7.,  8.,  9., 10., 11., 12.]]),\n",
              " torch.Size([1, 12]))"
            ]
          },
          "metadata": {},
          "execution_count": 74
        }
      ]
    },
    {
      "cell_type": "code",
      "source": [
        "# but both abc & tensor_b shares the same memory so,\n",
        "# changing abc will also change tensor_b, and vice verse\n",
        "\n",
        "# abc[0, 0] = 99 -> does the same thing, but diff syntax\n",
        "abc[0][0] = 99\n",
        "abc, tensor_b"
      ],
      "metadata": {
        "colab": {
          "base_uri": "https://localhost:8080/"
        },
        "id": "6TL9XFQt1DsW",
        "outputId": "3c0cb1b8-7f05-4fbf-a7f8-6cce6f366bac"
      },
      "execution_count": 77,
      "outputs": [
        {
          "output_type": "execute_result",
          "data": {
            "text/plain": [
              "(tensor([[99.,  2.,  3.,  4.,  5.,  6.,  7.,  8.,  9., 10., 11., 12.]]),\n",
              " tensor([99.,  2.,  3.,  4.,  5.,  6.,  7.,  8.,  9., 10., 11., 12.]))"
            ]
          },
          "metadata": {},
          "execution_count": 77
        }
      ]
    },
    {
      "cell_type": "code",
      "source": [
        "# stack tensors on top of each other\n",
        "ab = torch.arange(1.0, 11.0)\n",
        "ab_stacked = torch.stack([ab, ab, ab]) # default dim = 0\n",
        "print(ab_stacked)\n",
        "ab_stacked = torch.stack([ab, ab, ab], dim = 1)\n",
        "print(ab_stacked)\n",
        "# ab_stacked = torch.stack([ab, ab, ab], dim = 2)\n",
        "# print(ab_stacked)"
      ],
      "metadata": {
        "colab": {
          "base_uri": "https://localhost:8080/"
        },
        "id": "I-nhm-l81e8u",
        "outputId": "1f5b033f-f7a5-41c2-d2ef-def61ece3e76"
      },
      "execution_count": 84,
      "outputs": [
        {
          "output_type": "stream",
          "name": "stdout",
          "text": [
            "tensor([[ 1.,  2.,  3.,  4.,  5.,  6.,  7.,  8.,  9., 10.],\n",
            "        [ 1.,  2.,  3.,  4.,  5.,  6.,  7.,  8.,  9., 10.],\n",
            "        [ 1.,  2.,  3.,  4.,  5.,  6.,  7.,  8.,  9., 10.]])\n",
            "tensor([[ 1.,  1.,  1.],\n",
            "        [ 2.,  2.,  2.],\n",
            "        [ 3.,  3.,  3.],\n",
            "        [ 4.,  4.,  4.],\n",
            "        [ 5.,  5.,  5.],\n",
            "        [ 6.,  6.,  6.],\n",
            "        [ 7.,  7.,  7.],\n",
            "        [ 8.,  8.,  8.],\n",
            "        [ 9.,  9.,  9.],\n",
            "        [10., 10., 10.]])\n"
          ]
        }
      ]
    },
    {
      "cell_type": "code",
      "source": [
        "#hstack\n",
        "print(\"hstack_ab: \", torch.hstack([ab, ab, ab]))\n",
        "\n",
        "#vstack\n",
        "print(\"vstack_ab: \", torch.vstack([ab, ab, ab]))"
      ],
      "metadata": {
        "colab": {
          "base_uri": "https://localhost:8080/"
        },
        "id": "IwTJErnl2PTE",
        "outputId": "1a99eb64-615b-4f9c-fe1d-e864652bcb90"
      },
      "execution_count": 89,
      "outputs": [
        {
          "output_type": "stream",
          "name": "stdout",
          "text": [
            "hstack_ab:  tensor([ 1.,  2.,  3.,  4.,  5.,  6.,  7.,  8.,  9., 10.,  1.,  2.,  3.,  4.,\n",
            "         5.,  6.,  7.,  8.,  9., 10.,  1.,  2.,  3.,  4.,  5.,  6.,  7.,  8.,\n",
            "         9., 10.])\n",
            "vstack_ab:  tensor([[ 1.,  2.,  3.,  4.,  5.,  6.,  7.,  8.,  9., 10.],\n",
            "        [ 1.,  2.,  3.,  4.,  5.,  6.,  7.,  8.,  9., 10.],\n",
            "        [ 1.,  2.,  3.,  4.,  5.,  6.,  7.,  8.,  9., 10.]])\n"
          ]
        }
      ]
    },
    {
      "cell_type": "code",
      "source": [
        "# name.squeeze() -> removes all the 1 dimension from a tensor\n",
        "e = torch.rand(1, 2, 1, 4)\n",
        "print(f\"prev tensor e = {e}, shape = {e.shape}\")\n",
        "\n",
        "e_squeezed = e.squeeze()\n",
        "print(f\"after sqz,  tensor e = {e_squeezed}, shape = {e_squeezed.shape}\")"
      ],
      "metadata": {
        "colab": {
          "base_uri": "https://localhost:8080/"
        },
        "id": "bSGp0fgn3Htv",
        "outputId": "b54e5a12-230e-44b3-84f3-8b6d94e2026d"
      },
      "execution_count": 101,
      "outputs": [
        {
          "output_type": "stream",
          "name": "stdout",
          "text": [
            "prev tensor e = tensor([[[[0.1026, 0.4404, 0.3107, 0.9583]],\n",
            "\n",
            "         [[0.5893, 0.4462, 0.3546, 0.6375]]]]), shape = torch.Size([1, 2, 1, 4])\n",
            "after sqz,  tensor e = tensor([[0.1026, 0.4404, 0.3107, 0.9583],\n",
            "        [0.5893, 0.4462, 0.3546, 0.6375]]), shape = torch.Size([2, 4])\n"
          ]
        }
      ]
    },
    {
      "cell_type": "code",
      "source": [
        "# name.unsqueeze() -> adds a single dimension at a target tensor at a specific dimension\n",
        "\n",
        "print(\"e_squeezed: \", e_squeezed, \" , shape: \", e_squeezed.shape)\n",
        "e_unsqzed = e_squeezed.unsqueeze(dim=0) # default dim = 0\n",
        "print(\"e_unsqueezed(at dim = 0): \", e_unsqzed, \" , shape: \", e_unsqzed.shape)\n",
        "\n",
        "e_unsqzed1 = e_squeezed.unsqueeze(dim=1) # default dim = 0\n",
        "print(\"e_unsqueezed(at dim = 1): \", e_unsqzed1, \" , shape: \", e_unsqzed1.shape)\n",
        "\n",
        "e_unsqzed2 = e_squeezed.unsqueeze(dim=2) # default dim = 0\n",
        "print(\"e_unsqueezed(at dim = 2): \", e_unsqzed2, \" , shape: \", e_unsqzed2.shape)"
      ],
      "metadata": {
        "colab": {
          "base_uri": "https://localhost:8080/"
        },
        "id": "C3kB_yyS4ink",
        "outputId": "15250de3-9a38-4e40-a2f7-af790304e5d4"
      },
      "execution_count": 105,
      "outputs": [
        {
          "output_type": "stream",
          "name": "stdout",
          "text": [
            "e_squeezed:  tensor([[0.1026, 0.4404, 0.3107, 0.9583],\n",
            "        [0.5893, 0.4462, 0.3546, 0.6375]])  , shape:  torch.Size([2, 4])\n",
            "e_unsqueezed(at dim = 0):  tensor([[[0.1026, 0.4404, 0.3107, 0.9583],\n",
            "         [0.5893, 0.4462, 0.3546, 0.6375]]])  , shape:  torch.Size([1, 2, 4])\n",
            "e_unsqueezed(at dim = 1):  tensor([[[0.1026, 0.4404, 0.3107, 0.9583]],\n",
            "\n",
            "        [[0.5893, 0.4462, 0.3546, 0.6375]]])  , shape:  torch.Size([2, 1, 4])\n",
            "e_unsqueezed(at dim = 2):  tensor([[[0.1026],\n",
            "         [0.4404],\n",
            "         [0.3107],\n",
            "         [0.9583]],\n",
            "\n",
            "        [[0.5893],\n",
            "         [0.4462],\n",
            "         [0.3546],\n",
            "         [0.6375]]])  , shape:  torch.Size([2, 4, 1])\n"
          ]
        }
      ]
    },
    {
      "cell_type": "markdown",
      "source": [
        "torch.permute -> returns **a view** of the original tensor with its dimensions permuted"
      ],
      "metadata": {
        "id": "W0Hmb9Ey9PVF"
      }
    },
    {
      "cell_type": "code",
      "source": [
        "# name.permute() -> rearrange the dimensions of a tensor at a specific order\n",
        "# normally permute is seen to be used with images\n",
        "t_original = torch.rand(size=(224, 224, 3)) #[height, weight, color_channels]\n",
        "print(\"Shape of original tensor: \", t_original.shape)\n",
        "\n",
        "# let's change the original tensor's dim/axis with [color_channels, height, weight] using permute\n",
        "t_permuted = t_original.permute(2, 0, 1) # [color_channels, height, weight]\n",
        "print(\"Shape after permuting: \", t_permuted.shape)\n",
        "print(\"\\n\")\n",
        "\n",
        "print(\"NOTE: as torch.permute return a view of the original tensor, \\nt_permuted & t_original will share the same memory\")\n",
        "print(f\"\")\n",
        "print(t_original[0, 0, 0])\n",
        "print(t_permuted[0, 0, 0])\n",
        "t_original[0, 0, 0] = -11\n",
        "print(t_permuted[0, 0, 0])"
      ],
      "metadata": {
        "colab": {
          "base_uri": "https://localhost:8080/"
        },
        "id": "QCiKcwP-6qUH",
        "outputId": "7b4fe527-b14b-4a92-9a99-95ab98011cfd"
      },
      "execution_count": 117,
      "outputs": [
        {
          "output_type": "stream",
          "name": "stdout",
          "text": [
            "Shape of original tensor:  torch.Size([224, 224, 3])\n",
            "Shape after permuting:  torch.Size([3, 224, 224])\n",
            "\n",
            "\n",
            "NOTE: as torch.permute return a view of the original tensor, \n",
            "t_permuted & t_original will share the same memory\n",
            "\n",
            "tensor(0.0968)\n",
            "tensor(0.0968)\n",
            "tensor(-11.)\n"
          ]
        }
      ]
    },
    {
      "cell_type": "markdown",
      "source": [
        "## Indexing (selecting data form tensors)\n",
        "\n",
        "Indexing with PyTorch is similiar to indexing with NumPy"
      ],
      "metadata": {
        "id": "DkFoMCLhNb19"
      }
    },
    {
      "cell_type": "code",
      "source": [
        "import torch\n",
        "\n",
        "f = torch.arange(1, 17).reshape(1, 4, 4)\n",
        "f, f.shape"
      ],
      "metadata": {
        "colab": {
          "base_uri": "https://localhost:8080/"
        },
        "id": "IusIWFOJ8eUJ",
        "outputId": "b891f010-3c03-4845-dd5e-e01892d60708"
      },
      "execution_count": 118,
      "outputs": [
        {
          "output_type": "execute_result",
          "data": {
            "text/plain": [
              "(tensor([[[ 1,  2,  3,  4],\n",
              "          [ 5,  6,  7,  8],\n",
              "          [ 9, 10, 11, 12],\n",
              "          [13, 14, 15, 16]]]),\n",
              " torch.Size([1, 4, 4]))"
            ]
          },
          "metadata": {},
          "execution_count": 118
        }
      ]
    },
    {
      "cell_type": "code",
      "source": [
        "print(f)\n",
        "print(f[0])\n",
        "print(f[0][0])\n",
        "print(f[0][0][0])\n",
        "print(f[0][0][1])\n",
        "print(f[:, 0, 0])\n",
        "print(f[:, :, 0])\n",
        "print(f[:, 1, 0])\n",
        "print(f[:, :, 1])\n",
        "print(f[:, :, 2])\n",
        "print(f[:, :, :])"
      ],
      "metadata": {
        "colab": {
          "base_uri": "https://localhost:8080/"
        },
        "id": "GtkW6E47ODqL",
        "outputId": "b6f6561d-b0e9-42c1-ccbe-02660702ba38"
      },
      "execution_count": 123,
      "outputs": [
        {
          "output_type": "stream",
          "name": "stdout",
          "text": [
            "tensor([[[ 1,  2,  3,  4],\n",
            "         [ 5,  6,  7,  8],\n",
            "         [ 9, 10, 11, 12],\n",
            "         [13, 14, 15, 16]]])\n",
            "tensor([[ 1,  2,  3,  4],\n",
            "        [ 5,  6,  7,  8],\n",
            "        [ 9, 10, 11, 12],\n",
            "        [13, 14, 15, 16]])\n",
            "tensor([1, 2, 3, 4])\n",
            "tensor(1)\n",
            "tensor(2)\n",
            "tensor([1])\n",
            "tensor([[ 1,  5,  9, 13]])\n",
            "tensor([5])\n",
            "tensor([[ 2,  6, 10, 14]])\n",
            "tensor([[ 3,  7, 11, 15]])\n",
            "tensor([[[ 1,  2,  3,  4],\n",
            "         [ 5,  6,  7,  8],\n",
            "         [ 9, 10, 11, 12],\n",
            "         [13, 14, 15, 16]]])\n"
          ]
        }
      ]
    },
    {
      "cell_type": "code",
      "source": [
        "print(f[0, 3, 3])"
      ],
      "metadata": {
        "colab": {
          "base_uri": "https://localhost:8080/"
        },
        "id": "qchcoXwSVqeo",
        "outputId": "1f991a44-ca32-4556-b000-b57ddf0e42de"
      },
      "execution_count": 124,
      "outputs": [
        {
          "output_type": "stream",
          "name": "stdout",
          "text": [
            "tensor(16)\n"
          ]
        }
      ]
    },
    {
      "cell_type": "code",
      "source": [
        "print(f[0, :, 3])"
      ],
      "metadata": {
        "colab": {
          "base_uri": "https://localhost:8080/"
        },
        "id": "zx0oPf9bWE7K",
        "outputId": "bddb3f36-2798-4d35-d7fd-38ca19b8331a"
      },
      "execution_count": 125,
      "outputs": [
        {
          "output_type": "stream",
          "name": "stdout",
          "text": [
            "tensor([ 4,  8, 12, 16])\n"
          ]
        }
      ]
    },
    {
      "cell_type": "markdown",
      "source": [
        "## PyTorch tensors & NumPy\n",
        "\n",
        "NumPy is a popular scientific Python numerical computing library.\n",
        "\n",
        "and because of this, PyTorch has functionality to interact with it.\n",
        "\n",
        "* Data in NumPy array, want in PyTorch tensor -> `torch.numpy(ndarray)`\n",
        "* PyTorch tensor, want in NumPy array -> `torch.tensor.numpy()`"
      ],
      "metadata": {
        "id": "NNxn60Dwqsto"
      }
    },
    {
      "cell_type": "code",
      "source": [
        "# NumPy array to tensor\n",
        "import torch\n",
        "import numpy as np\n",
        "\n",
        "array = np.arange(1.0, 11.0)\n",
        "print(\"NumPy array default dtype: \", array.dtype)\n",
        "\n",
        "tensor = torch.from_numpy(array)\n",
        "print(\"Tensor2: \", tensor)  # as narray's default dtype is 'flaot64', tensor becomes of 'flaot64'\n",
        "\n",
        "tensor2 = torch.from_numpy(array).type(torch.float32) # chanding dtype from float64 to float32\n",
        "print(\"Tensor2 = \", tensor2, \" \", tensor2.dtype)"
      ],
      "metadata": {
        "colab": {
          "base_uri": "https://localhost:8080/"
        },
        "id": "_yGypXSJqsPT",
        "outputId": "b6addad8-ba11-4ab6-a628-abd179ec4129"
      },
      "execution_count": 9,
      "outputs": [
        {
          "output_type": "stream",
          "name": "stdout",
          "text": [
            "NumPy array default dtype:  float64\n",
            "Tensor2:  tensor([ 1.,  2.,  3.,  4.,  5.,  6.,  7.,  8.,  9., 10.], dtype=torch.float64)\n",
            "Tensor2 =  tensor([ 1.,  2.,  3.,  4.,  5.,  6.,  7.,  8.,  9., 10.])   torch.float32\n"
          ]
        }
      ]
    },
    {
      "cell_type": "code",
      "source": [
        "# Tensor to NumPy array\n",
        "\n",
        "tensor_p = torch.ones(10)\n",
        "array2 = tensor_p.numpy()\n",
        "print(\"dtype of tensor: \", tensor_p.dtype)   # default dtype for tensor -> float32\n",
        "print(\"dtype of narray: \", array2.dtype)"
      ],
      "metadata": {
        "colab": {
          "base_uri": "https://localhost:8080/"
        },
        "id": "Bt4shP7lWLuV",
        "outputId": "6d57021e-eafb-4a77-8ffc-04da2becc9e4"
      },
      "execution_count": 14,
      "outputs": [
        {
          "output_type": "stream",
          "name": "stdout",
          "text": [
            "dtype of tensor:  torch.float32\n",
            "dtype of narray:  float32\n"
          ]
        }
      ]
    },
    {
      "cell_type": "markdown",
      "source": [
        "## Reproducibility (trying to take random out of random)\n",
        "\n",
        "in short how neural network learns:\n",
        "\n",
        "`start with random numbers -> tensor operations -> update random numbers to try and make them better representators of the data -> again -> again -> again...`\n",
        "\n",
        "To reduce the randomness in neural networks and PyTorch, there comes the concept of a **random seed**."
      ],
      "metadata": {
        "id": "hMRfXrv8vVFj"
      }
    },
    {
      "cell_type": "code",
      "source": [
        "## let's make some random but reproducible tensors\n",
        "\n",
        "import torch\n",
        "\n",
        "# setting the random seed\n",
        "RANDOM_SEED = 42 # this number can be any numberic value, it represents different flavours of randomness\n",
        "\n",
        "torch.manual_seed(RANDOM_SEED) # setting up the manual seed for reproducive random numbers\n",
        "\n",
        "random_tensor_A = torch.rand(3, 5)\n",
        "random_tensor_B = torch.rand(3, 5)\n",
        "\n",
        "print(random_tensor_A)\n",
        "print(random_tensor_B)\n",
        "print(random_tensor_A == random_tensor_B)\n",
        "\n",
        "# it's not reproducing the same random numbers because after setting the manual_seed, only one\n",
        "# function after that works for that manual seed. So creating the second random numbers, we\n",
        "# need to set the manual seed again."
      ],
      "metadata": {
        "colab": {
          "base_uri": "https://localhost:8080/"
        },
        "id": "YlKLPhBpuO6y",
        "outputId": "9a8cae8f-f1b6-4a2d-9f39-f3383898d487"
      },
      "execution_count": 16,
      "outputs": [
        {
          "output_type": "stream",
          "name": "stdout",
          "text": [
            "tensor([[0.8823, 0.9150, 0.3829, 0.9593, 0.3904],\n",
            "        [0.6009, 0.2566, 0.7936, 0.9408, 0.1332],\n",
            "        [0.9346, 0.5936, 0.8694, 0.5677, 0.7411]])\n",
            "tensor([[0.4294, 0.8854, 0.5739, 0.2666, 0.6274],\n",
            "        [0.2696, 0.4414, 0.2969, 0.8317, 0.1053],\n",
            "        [0.2695, 0.3588, 0.1994, 0.5472, 0.0062]])\n",
            "tensor([[False, False, False, False, False],\n",
            "        [False, False, False, False, False],\n",
            "        [False, False, False, False, False]])\n"
          ]
        }
      ]
    },
    {
      "cell_type": "code",
      "source": [
        "import torch\n",
        "\n",
        "# setting the random seed\n",
        "RANDOM_SEED = 42 # this number can be anything\n",
        "\n",
        "torch.manual_seed(RANDOM_SEED) # setting up the manual seed for reproducive random numbers\n",
        "random_tensor_A = torch.rand(3, 5)\n",
        "\n",
        "torch.manual_seed(RANDOM_SEED)\n",
        "random_tensor_B = torch.rand(3, 5)\n",
        "\n",
        "print(random_tensor_A)\n",
        "print(random_tensor_B)\n",
        "print(random_tensor_A == random_tensor_B)"
      ],
      "metadata": {
        "colab": {
          "base_uri": "https://localhost:8080/"
        },
        "id": "DzBLTxO2zDZ-",
        "outputId": "d5d19e34-7100-4151-b246-4b82695efae0"
      },
      "execution_count": 21,
      "outputs": [
        {
          "output_type": "stream",
          "name": "stdout",
          "text": [
            "tensor([[0.8823, 0.9150, 0.3829, 0.9593, 0.3904],\n",
            "        [0.6009, 0.2566, 0.7936, 0.9408, 0.1332],\n",
            "        [0.9346, 0.5936, 0.8694, 0.5677, 0.7411]])\n",
            "tensor([[0.8823, 0.9150, 0.3829, 0.9593, 0.3904],\n",
            "        [0.6009, 0.2566, 0.7936, 0.9408, 0.1332],\n",
            "        [0.9346, 0.5936, 0.8694, 0.5677, 0.7411]])\n",
            "tensor([[True, True, True, True, True],\n",
            "        [True, True, True, True, True],\n",
            "        [True, True, True, True, True]])\n"
          ]
        }
      ]
    },
    {
      "cell_type": "markdown",
      "source": [
        "**Resources regarding Reproducibility & random seed:**\n",
        "\n",
        "* https://pytorch.org/docs/stable/notes/randomness.html\n",
        "\n",
        "* https://en.wikipedia.org/wiki/Random_seed"
      ],
      "metadata": {
        "id": "RzzRCRON0WWt"
      }
    },
    {
      "cell_type": "markdown",
      "source": [
        "## Running tensors and PyTorch objects on the GPUs (and making faster computations)\n",
        "\n",
        "Getting a GPU:\n",
        "\n",
        "* Easiest - Use Google Colab for a free GPU\n",
        "* Use your own GPU\n",
        "* Use cloud computing - GCP, AWS, Azure etc. These services allow you to rent computers on the cloud and access them.\n"
      ],
      "metadata": {
        "id": "6E_d39Fv1E7F"
      }
    },
    {
      "cell_type": "markdown",
      "source": [
        "For PyTorch, since it's capable of running compute on the GPU or CPU, it's best practice to setup device agnostic code.\n",
        "\n",
        "E.g. run on GPU if it's available, else on CPU(default)\n",
        "\n",
        "\n",
        "**Device Agnostic code (PyTorch doc):**\n",
        "\n",
        "https://pytorch.org/docs/stable/notes/cuda.html#best-practices"
      ],
      "metadata": {
        "id": "lqcCYrDn43At"
      }
    },
    {
      "cell_type": "code",
      "source": [
        "# check for GPU access\n",
        "\n",
        "# approch 1: nvidia command\n",
        "!nvidia-smi"
      ],
      "metadata": {
        "colab": {
          "base_uri": "https://localhost:8080/"
        },
        "id": "9c8nmY-62amH",
        "outputId": "2e4aeecc-b270-47e4-a49a-78bafd79dffc"
      },
      "execution_count": 34,
      "outputs": [
        {
          "output_type": "stream",
          "name": "stdout",
          "text": [
            "/bin/bash: line 1: nvidia-smi: command not found\n"
          ]
        }
      ]
    },
    {
      "cell_type": "code",
      "source": [
        "#approach 2: using PyTorch\n",
        "import torch\n",
        "\n",
        "torch.cuda.is_available()"
      ],
      "metadata": {
        "colab": {
          "base_uri": "https://localhost:8080/"
        },
        "id": "zxNu6arb28jM",
        "outputId": "ca65b8b6-e8d2-4744-bc90-d06b5e577940"
      },
      "execution_count": 35,
      "outputs": [
        {
          "output_type": "execute_result",
          "data": {
            "text/plain": [
              "False"
            ]
          },
          "metadata": {},
          "execution_count": 35
        }
      ]
    },
    {
      "cell_type": "code",
      "source": [
        "# setup device agnostic code\n",
        "\n",
        "device = \"cuda\" if torch.cuda.is_available() else \"cpu\"\n",
        "device"
      ],
      "metadata": {
        "colab": {
          "base_uri": "https://localhost:8080/",
          "height": 35
        },
        "id": "F-blwLQJ3D15",
        "outputId": "7859c078-5f79-4dc7-8372-354996c7d4ba"
      },
      "execution_count": 36,
      "outputs": [
        {
          "output_type": "execute_result",
          "data": {
            "text/plain": [
              "'cpu'"
            ],
            "application/vnd.google.colaboratory.intrinsic+json": {
              "type": "string"
            }
          },
          "metadata": {},
          "execution_count": 36
        }
      ]
    },
    {
      "cell_type": "code",
      "source": [
        "# Count number of devices\n",
        "torch.cuda.device_count()"
      ],
      "metadata": {
        "colab": {
          "base_uri": "https://localhost:8080/"
        },
        "id": "x1HFM5LB4JsG",
        "outputId": "a91ae522-d020-45f2-fccd-aca900fae1c4"
      },
      "execution_count": 37,
      "outputs": [
        {
          "output_type": "execute_result",
          "data": {
            "text/plain": [
              "0"
            ]
          },
          "metadata": {},
          "execution_count": 37
        }
      ]
    },
    {
      "cell_type": "markdown",
      "source": [
        "## Putting tensors (and models) on the GPU\n",
        "\n",
        "The reason we want our tensors/models on the GPU is because using a GPU results in faster computations."
      ],
      "metadata": {
        "id": "LIHXj9Pp5mZ6"
      }
    },
    {
      "cell_type": "code",
      "source": [
        "#create a tensor (default on the CPU)\n",
        "\n",
        "tensor_x = torch.tensor([1, 2, 4])\n",
        "tensor_x, tensor_x.device"
      ],
      "metadata": {
        "colab": {
          "base_uri": "https://localhost:8080/"
        },
        "id": "DKi5el1T4PI2",
        "outputId": "ca8dd8b4-bafd-463e-a97e-805801dc359f"
      },
      "execution_count": 40,
      "outputs": [
        {
          "output_type": "execute_result",
          "data": {
            "text/plain": [
              "(tensor([1, 2, 4]), device(type='cpu'))"
            ]
          },
          "metadata": {},
          "execution_count": 40
        }
      ]
    },
    {
      "cell_type": "code",
      "source": [
        "# move tensor_x to GPU(if available)\n",
        "\n",
        "device2 = \"cuda\" if torch.cuda.is_available() else \"cpu\"\n",
        "tensor_x_gpu = tensor_x.to(device2)   #name.to(device_name) -> is used to move models & tensors to other devices\n",
        "tensor_x_gpu, tensor_x_gpu.device   # still on CPU, because of no GPU"
      ],
      "metadata": {
        "colab": {
          "base_uri": "https://localhost:8080/"
        },
        "id": "ghfd28o17oiY",
        "outputId": "fe54cfe1-315b-40ef-dfa5-7866a94b735c"
      },
      "execution_count": 44,
      "outputs": [
        {
          "output_type": "execute_result",
          "data": {
            "text/plain": [
              "(tensor([1, 2, 4]), device(type='cpu'))"
            ]
          },
          "metadata": {},
          "execution_count": 44
        }
      ]
    },
    {
      "cell_type": "markdown",
      "source": [
        "## Moving tensors back to CPU\n",
        "\n",
        "e.g. NumPy only works on CPU"
      ],
      "metadata": {
        "id": "0sEpYqmU8eQO"
      }
    },
    {
      "cell_type": "code",
      "source": [
        "# moving tensor back to CPU as NumPy does only work on CPU\n",
        "\n",
        "tensor_x_cpu = tensor_x_gpu.to(\"cpu\")\n",
        "tensor_x_cpu.device"
      ],
      "metadata": {
        "colab": {
          "base_uri": "https://localhost:8080/"
        },
        "id": "irnZfYRX8BdB",
        "outputId": "bbf2dac0-a8f0-417c-81c0-fcbcc1419727"
      },
      "execution_count": 47,
      "outputs": [
        {
          "output_type": "execute_result",
          "data": {
            "text/plain": [
              "device(type='cpu')"
            ]
          },
          "metadata": {},
          "execution_count": 47
        }
      ]
    },
    {
      "cell_type": "code",
      "source": [
        "# To fix the GPU tensor with NumPy issue, we first need to set it back to the CPU\n",
        "\n",
        "tensor_back_on_cpu = tensor_x_gpu.cpu().numpy()  # name.cpu() -> also works to change back to CPU\n",
        "tensor_back_on_cpu"
      ],
      "metadata": {
        "colab": {
          "base_uri": "https://localhost:8080/"
        },
        "id": "Ri3IXzyC8vkx",
        "outputId": "ef7d6d95-5415-476f-9f0f-b61db35fdd77"
      },
      "execution_count": 49,
      "outputs": [
        {
          "output_type": "execute_result",
          "data": {
            "text/plain": [
              "array([1, 2, 4])"
            ]
          },
          "metadata": {},
          "execution_count": 49
        }
      ]
    },
    {
      "cell_type": "markdown",
      "source": [
        "---------------------------> END Of **First Module**(PyTorch Fundamentals) <---------------------------"
      ],
      "metadata": {
        "id": "xUmhxp_P9-rP"
      }
    },
    {
      "cell_type": "markdown",
      "source": [
        "**Exercises & Extra-Curriculum:**\n",
        "\n",
        "https://www.learnpytorch.io/00_pytorch_fundamentals/#exercises"
      ],
      "metadata": {
        "id": "EMesgEtC-71D"
      }
    }
  ]
}